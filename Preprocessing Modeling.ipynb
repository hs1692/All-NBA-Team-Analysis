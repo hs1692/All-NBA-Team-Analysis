{
 "cells": [
  {
   "cell_type": "code",
   "execution_count": 1,
   "metadata": {
    "scrolled": true
   },
   "outputs": [],
   "source": [
    "import pandas as pd\n",
    "import numpy as np\n",
    "import matplotlib.pyplot as plt\n",
    "%matplotlib inline\n",
    "import seaborn as sns\n",
    "import pickle\n",
    "from sklearn.metrics import plot_confusion_matrix, classification_report\n",
    "from sklearn.model_selection import train_test_split, cross_val_score, GridSearchCV\n",
    "from sklearn.pipeline import Pipeline\n",
    "from sklearn.impute import SimpleImputer\n",
    "from sklearn.compose import ColumnTransformer\n",
    "from sklearn.preprocessing import OneHotEncoder, LabelEncoder, StandardScaler\n",
    "from sklearn.tree import DecisionTreeClassifier, plot_tree\n",
    "from imblearn.over_sampling import SMOTE\n",
    "from sklearn.feature_selection import RFECV, VarianceThreshold\n",
    "from sklearn.ensemble import GradientBoostingClassifier\n",
    "from sklearn.dummy import DummyClassifier\n",
    "from imblearn.pipeline import Pipeline as imbpipeline"
   ]
  },
  {
   "cell_type": "code",
   "execution_count": 2,
   "metadata": {},
   "outputs": [],
   "source": [
    "df=pd.read_pickle('data/cleaned_data')"
   ]
  },
  {
   "cell_type": "code",
   "execution_count": 3,
   "metadata": {
    "scrolled": false
   },
   "outputs": [
    {
     "data": {
      "text/html": [
       "<div>\n",
       "<style scoped>\n",
       "    .dataframe tbody tr th:only-of-type {\n",
       "        vertical-align: middle;\n",
       "    }\n",
       "\n",
       "    .dataframe tbody tr th {\n",
       "        vertical-align: top;\n",
       "    }\n",
       "\n",
       "    .dataframe thead th {\n",
       "        text-align: right;\n",
       "    }\n",
       "</style>\n",
       "<table border=\"1\" class=\"dataframe\">\n",
       "  <thead>\n",
       "    <tr style=\"text-align: right;\">\n",
       "      <th></th>\n",
       "      <th>SEASON</th>\n",
       "      <th>AGE</th>\n",
       "      <th>TEAM</th>\n",
       "      <th>LEAGUE</th>\n",
       "      <th>POS</th>\n",
       "      <th>G</th>\n",
       "      <th>GS</th>\n",
       "      <th>MP</th>\n",
       "      <th>FG</th>\n",
       "      <th>FGA</th>\n",
       "      <th>...</th>\n",
       "      <th>DRB</th>\n",
       "      <th>TRB</th>\n",
       "      <th>AST</th>\n",
       "      <th>STL</th>\n",
       "      <th>BLK</th>\n",
       "      <th>TOV</th>\n",
       "      <th>PF</th>\n",
       "      <th>PTS</th>\n",
       "      <th>SEASON_COUNT</th>\n",
       "      <th>target</th>\n",
       "    </tr>\n",
       "  </thead>\n",
       "  <tbody>\n",
       "    <tr>\n",
       "      <th>0</th>\n",
       "      <td>2020-21</td>\n",
       "      <td>19.0</td>\n",
       "      <td>ORL</td>\n",
       "      <td>NBA</td>\n",
       "      <td>SG</td>\n",
       "      <td>26.0</td>\n",
       "      <td>1.0</td>\n",
       "      <td>25.2</td>\n",
       "      <td>4.3</td>\n",
       "      <td>9.7</td>\n",
       "      <td>...</td>\n",
       "      <td>4.2</td>\n",
       "      <td>5.0</td>\n",
       "      <td>2.8</td>\n",
       "      <td>0.6</td>\n",
       "      <td>0.3</td>\n",
       "      <td>1.6</td>\n",
       "      <td>1.5</td>\n",
       "      <td>11.2</td>\n",
       "      <td>3</td>\n",
       "      <td>0</td>\n",
       "    </tr>\n",
       "    <tr>\n",
       "      <th>1</th>\n",
       "      <td>2020-21</td>\n",
       "      <td>22.0</td>\n",
       "      <td>PHI</td>\n",
       "      <td>NBA</td>\n",
       "      <td>SG</td>\n",
       "      <td>6.0</td>\n",
       "      <td>0.0</td>\n",
       "      <td>4.5</td>\n",
       "      <td>0.8</td>\n",
       "      <td>1.5</td>\n",
       "      <td>...</td>\n",
       "      <td>0.2</td>\n",
       "      <td>0.7</td>\n",
       "      <td>0.5</td>\n",
       "      <td>0.2</td>\n",
       "      <td>0.0</td>\n",
       "      <td>0.2</td>\n",
       "      <td>0.3</td>\n",
       "      <td>2.7</td>\n",
       "      <td>3</td>\n",
       "      <td>0</td>\n",
       "    </tr>\n",
       "    <tr>\n",
       "      <th>2</th>\n",
       "      <td>2020-21</td>\n",
       "      <td>24.0</td>\n",
       "      <td>CLE</td>\n",
       "      <td>NBA</td>\n",
       "      <td>SG</td>\n",
       "      <td>28.0</td>\n",
       "      <td>1.0</td>\n",
       "      <td>13.4</td>\n",
       "      <td>1.3</td>\n",
       "      <td>3.6</td>\n",
       "      <td>...</td>\n",
       "      <td>1.5</td>\n",
       "      <td>1.8</td>\n",
       "      <td>0.9</td>\n",
       "      <td>0.5</td>\n",
       "      <td>0.3</td>\n",
       "      <td>0.6</td>\n",
       "      <td>1.3</td>\n",
       "      <td>4.1</td>\n",
       "      <td>3</td>\n",
       "      <td>0</td>\n",
       "    </tr>\n",
       "    <tr>\n",
       "      <th>3</th>\n",
       "      <td>1992-93</td>\n",
       "      <td>24.0</td>\n",
       "      <td>TOT</td>\n",
       "      <td>NBA</td>\n",
       "      <td>PF</td>\n",
       "      <td>75.0</td>\n",
       "      <td>52.0</td>\n",
       "      <td>17.5</td>\n",
       "      <td>3.3</td>\n",
       "      <td>6.3</td>\n",
       "      <td>...</td>\n",
       "      <td>2.8</td>\n",
       "      <td>4.5</td>\n",
       "      <td>0.4</td>\n",
       "      <td>0.3</td>\n",
       "      <td>0.3</td>\n",
       "      <td>1.3</td>\n",
       "      <td>2.5</td>\n",
       "      <td>7.7</td>\n",
       "      <td>3</td>\n",
       "      <td>0</td>\n",
       "    </tr>\n",
       "    <tr>\n",
       "      <th>4</th>\n",
       "      <td>1968-69</td>\n",
       "      <td>22.0</td>\n",
       "      <td>MIL</td>\n",
       "      <td>NBA</td>\n",
       "      <td>C</td>\n",
       "      <td>29.0</td>\n",
       "      <td>NaN</td>\n",
       "      <td>28.9</td>\n",
       "      <td>4.3</td>\n",
       "      <td>12.0</td>\n",
       "      <td>...</td>\n",
       "      <td>NaN</td>\n",
       "      <td>13.0</td>\n",
       "      <td>1.1</td>\n",
       "      <td>NaN</td>\n",
       "      <td>NaN</td>\n",
       "      <td>NaN</td>\n",
       "      <td>3.4</td>\n",
       "      <td>11.0</td>\n",
       "      <td>3</td>\n",
       "      <td>0</td>\n",
       "    </tr>\n",
       "  </tbody>\n",
       "</table>\n",
       "<p>5 rows × 32 columns</p>\n",
       "</div>"
      ],
      "text/plain": [
       "    SEASON   AGE TEAM LEAGUE POS     G    GS    MP   FG   FGA  ...  DRB   TRB  \\\n",
       "0  2020-21  19.0  ORL    NBA  SG  26.0   1.0  25.2  4.3   9.7  ...  4.2   5.0   \n",
       "1  2020-21  22.0  PHI    NBA  SG   6.0   0.0   4.5  0.8   1.5  ...  0.2   0.7   \n",
       "2  2020-21  24.0  CLE    NBA  SG  28.0   1.0  13.4  1.3   3.6  ...  1.5   1.8   \n",
       "3  1992-93  24.0  TOT    NBA  PF  75.0  52.0  17.5  3.3   6.3  ...  2.8   4.5   \n",
       "4  1968-69  22.0  MIL    NBA   C  29.0   NaN  28.9  4.3  12.0  ...  NaN  13.0   \n",
       "\n",
       "   AST  STL  BLK  TOV   PF   PTS  SEASON_COUNT  target  \n",
       "0  2.8  0.6  0.3  1.6  1.5  11.2             3       0  \n",
       "1  0.5  0.2  0.0  0.2  0.3   2.7             3       0  \n",
       "2  0.9  0.5  0.3  0.6  1.3   4.1             3       0  \n",
       "3  0.4  0.3  0.3  1.3  2.5   7.7             3       0  \n",
       "4  1.1  NaN  NaN  NaN  3.4  11.0             3       0  \n",
       "\n",
       "[5 rows x 32 columns]"
      ]
     },
     "execution_count": 3,
     "metadata": {},
     "output_type": "execute_result"
    }
   ],
   "source": [
    "df.head()"
   ]
  },
  {
   "cell_type": "code",
   "execution_count": 4,
   "metadata": {},
   "outputs": [],
   "source": [
    "def missing(row): \n",
    "    if (row['3P%']==0):\n",
    "        return 1\n",
    "    else:\n",
    "        return 0"
   ]
  },
  {
   "cell_type": "code",
   "execution_count": 5,
   "metadata": {},
   "outputs": [],
   "source": [
    "df['missing']= df.apply(lambda row : missing(row), axis=1)"
   ]
  },
  {
   "cell_type": "code",
   "execution_count": 6,
   "metadata": {},
   "outputs": [],
   "source": [
    "X=df.drop('target',axis=1)\n",
    "y=df['target']"
   ]
  },
  {
   "cell_type": "code",
   "execution_count": 8,
   "metadata": {},
   "outputs": [],
   "source": [
    "X_train,X_test,y_train,y_test = train_test_split(X,y, test_size=0.2,random_state=42, stratify=y)"
   ]
  },
  {
   "cell_type": "code",
   "execution_count": 9,
   "metadata": {},
   "outputs": [],
   "source": [
    "cat_columns= [col for col in X.columns if X[col].dtype in ['object']]\n",
    "num_columns = [col for col in X.columns if X[col].dtypes in ['float64', 'int64']]\n"
   ]
  },
  {
   "cell_type": "code",
   "execution_count": 10,
   "metadata": {},
   "outputs": [],
   "source": [
    "zero_pipe=Pipeline(steps= [('imputer1',SimpleImputer(strategy='median')),\n",
    "    ('ss', StandardScaler())\n",
    "])"
   ]
  },
  {
   "cell_type": "code",
   "execution_count": 11,
   "metadata": {},
   "outputs": [],
   "source": [
    "cat_pipe=Pipeline(steps= [('imputer',SimpleImputer(strategy='constant',fill_value='missing')),\n",
    "    ('ohe', OneHotEncoder(sparse=False, handle_unknown='ignore'))\n",
    "])"
   ]
  },
  {
   "cell_type": "code",
   "execution_count": 12,
   "metadata": {},
   "outputs": [],
   "source": [
    "coltran= ColumnTransformer(transformers=[\n",
    "    ('zero', zero_pipe , num_columns), \n",
    "    ('cat_pipe', cat_pipe, cat_columns)\n",
    "],remainder= 'passthrough')\n"
   ]
  },
  {
   "cell_type": "code",
   "execution_count": 13,
   "metadata": {},
   "outputs": [],
   "source": [
    "#preparing cleaned daatset for alll post modelin without cross val"
   ]
  },
  {
   "cell_type": "code",
   "execution_count": 14,
   "metadata": {},
   "outputs": [
    {
     "data": {
      "text/plain": [
       "ColumnTransformer(remainder='passthrough',\n",
       "                  transformers=[('zero',\n",
       "                                 Pipeline(steps=[('imputer1',\n",
       "                                                  SimpleImputer(strategy='median')),\n",
       "                                                 ('ss', StandardScaler())]),\n",
       "                                 ['AGE', 'G', 'GS', 'MP', 'FG', 'FGA', 'FG%',\n",
       "                                  '3P', '3PA', '3P%', '2P', '2PA', '2P%',\n",
       "                                  'eFG%', 'FT', 'FTA', 'FT%', 'ORB', 'DRB',\n",
       "                                  'TRB', 'AST', 'STL', 'BLK', 'TOV', 'PF',\n",
       "                                  'PTS', 'SEASON_COUNT', 'missing']),\n",
       "                                ('cat_pipe',\n",
       "                                 Pipeline(steps=[('imputer',\n",
       "                                                  SimpleImputer(fill_value='missing',\n",
       "                                                                strategy='constant')),\n",
       "                                                 ('ohe',\n",
       "                                                  OneHotEncoder(handle_unknown='ignore',\n",
       "                                                                sparse=False))]),\n",
       "                                 ['SEASON', 'TEAM', 'LEAGUE', 'POS'])])"
      ]
     },
     "execution_count": 14,
     "metadata": {},
     "output_type": "execute_result"
    }
   ],
   "source": [
    "coltran.fit(X_train)"
   ]
  },
  {
   "cell_type": "code",
   "execution_count": 15,
   "metadata": {},
   "outputs": [],
   "source": [
    "X_cleaned_train= coltran.transform(X_train)"
   ]
  },
  {
   "cell_type": "code",
   "execution_count": 16,
   "metadata": {},
   "outputs": [],
   "source": [
    "X_cleaned_test = coltran.transform(X_test)"
   ]
  },
  {
   "cell_type": "code",
   "execution_count": 17,
   "metadata": {},
   "outputs": [],
   "source": [
    "#the order of the column name has to match the order of the column transformer\n",
    "cat_columns = coltran.named_transformers_['cat_pipe']['ohe'].get_feature_names(cat_columns).tolist()\n",
    "all_columns = num_columns + cat_columns \n",
    "\n",
    "cleaned_df_train = pd.DataFrame(X_cleaned_train, columns=all_columns)\n",
    "cleaned_df_test = pd.DataFrame(X_cleaned_test, columns=all_columns)"
   ]
  },
  {
   "cell_type": "code",
   "execution_count": 18,
   "metadata": {},
   "outputs": [
    {
     "data": {
      "text/html": [
       "<div>\n",
       "<style scoped>\n",
       "    .dataframe tbody tr th:only-of-type {\n",
       "        vertical-align: middle;\n",
       "    }\n",
       "\n",
       "    .dataframe tbody tr th {\n",
       "        vertical-align: top;\n",
       "    }\n",
       "\n",
       "    .dataframe thead th {\n",
       "        text-align: right;\n",
       "    }\n",
       "</style>\n",
       "<table border=\"1\" class=\"dataframe\">\n",
       "  <thead>\n",
       "    <tr style=\"text-align: right;\">\n",
       "      <th></th>\n",
       "      <th>AGE</th>\n",
       "      <th>G</th>\n",
       "      <th>GS</th>\n",
       "      <th>MP</th>\n",
       "      <th>FG</th>\n",
       "      <th>FGA</th>\n",
       "      <th>FG%</th>\n",
       "      <th>3P</th>\n",
       "      <th>3PA</th>\n",
       "      <th>3P%</th>\n",
       "      <th>...</th>\n",
       "      <th>DRB</th>\n",
       "      <th>TRB</th>\n",
       "      <th>AST</th>\n",
       "      <th>STL</th>\n",
       "      <th>BLK</th>\n",
       "      <th>TOV</th>\n",
       "      <th>PF</th>\n",
       "      <th>PTS</th>\n",
       "      <th>SEASON_COUNT</th>\n",
       "      <th>missing</th>\n",
       "    </tr>\n",
       "  </thead>\n",
       "  <tbody>\n",
       "    <tr>\n",
       "      <th>count</th>\n",
       "      <td>2.464000e+03</td>\n",
       "      <td>2.464000e+03</td>\n",
       "      <td>2.464000e+03</td>\n",
       "      <td>2.464000e+03</td>\n",
       "      <td>2.464000e+03</td>\n",
       "      <td>2.464000e+03</td>\n",
       "      <td>2.464000e+03</td>\n",
       "      <td>2.464000e+03</td>\n",
       "      <td>2.464000e+03</td>\n",
       "      <td>2.464000e+03</td>\n",
       "      <td>...</td>\n",
       "      <td>2.464000e+03</td>\n",
       "      <td>2.464000e+03</td>\n",
       "      <td>2.464000e+03</td>\n",
       "      <td>2.464000e+03</td>\n",
       "      <td>2.464000e+03</td>\n",
       "      <td>2.464000e+03</td>\n",
       "      <td>2.464000e+03</td>\n",
       "      <td>2.464000e+03</td>\n",
       "      <td>2464.0</td>\n",
       "      <td>2.464000e+03</td>\n",
       "    </tr>\n",
       "    <tr>\n",
       "      <th>mean</th>\n",
       "      <td>-5.736978e-17</td>\n",
       "      <td>5.046468e-17</td>\n",
       "      <td>-5.528586e-17</td>\n",
       "      <td>7.682347e-17</td>\n",
       "      <td>-9.439599e-18</td>\n",
       "      <td>1.910449e-17</td>\n",
       "      <td>7.069111e-16</td>\n",
       "      <td>1.258012e-16</td>\n",
       "      <td>1.714898e-16</td>\n",
       "      <td>-3.561365e-16</td>\n",
       "      <td>...</td>\n",
       "      <td>-1.387328e-16</td>\n",
       "      <td>-1.637849e-16</td>\n",
       "      <td>-1.007491e-16</td>\n",
       "      <td>-3.054916e-17</td>\n",
       "      <td>-6.778939e-17</td>\n",
       "      <td>1.974431e-16</td>\n",
       "      <td>-3.936921e-18</td>\n",
       "      <td>1.065841e-16</td>\n",
       "      <td>0.0</td>\n",
       "      <td>-1.580626e-16</td>\n",
       "    </tr>\n",
       "    <tr>\n",
       "      <th>std</th>\n",
       "      <td>1.000203e+00</td>\n",
       "      <td>1.000203e+00</td>\n",
       "      <td>1.000203e+00</td>\n",
       "      <td>1.000203e+00</td>\n",
       "      <td>1.000203e+00</td>\n",
       "      <td>1.000203e+00</td>\n",
       "      <td>1.000203e+00</td>\n",
       "      <td>1.000203e+00</td>\n",
       "      <td>1.000203e+00</td>\n",
       "      <td>1.000203e+00</td>\n",
       "      <td>...</td>\n",
       "      <td>1.000203e+00</td>\n",
       "      <td>1.000203e+00</td>\n",
       "      <td>1.000203e+00</td>\n",
       "      <td>1.000203e+00</td>\n",
       "      <td>1.000203e+00</td>\n",
       "      <td>1.000203e+00</td>\n",
       "      <td>1.000203e+00</td>\n",
       "      <td>1.000203e+00</td>\n",
       "      <td>0.0</td>\n",
       "      <td>1.000203e+00</td>\n",
       "    </tr>\n",
       "    <tr>\n",
       "      <th>min</th>\n",
       "      <td>-3.917032e+00</td>\n",
       "      <td>-1.877664e+00</td>\n",
       "      <td>-6.840750e-01</td>\n",
       "      <td>-2.072285e+00</td>\n",
       "      <td>-1.410857e+00</td>\n",
       "      <td>-1.531462e+00</td>\n",
       "      <td>-4.237336e+00</td>\n",
       "      <td>-5.952722e-01</td>\n",
       "      <td>-6.619943e-01</td>\n",
       "      <td>-7.579977e-01</td>\n",
       "      <td>...</td>\n",
       "      <td>-1.489566e+00</td>\n",
       "      <td>-1.336365e+00</td>\n",
       "      <td>-1.072487e+00</td>\n",
       "      <td>-1.550149e+00</td>\n",
       "      <td>-8.532358e-01</td>\n",
       "      <td>-1.680478e+00</td>\n",
       "      <td>-2.234829e+00</td>\n",
       "      <td>-1.410434e+00</td>\n",
       "      <td>0.0</td>\n",
       "      <td>-1.152789e+00</td>\n",
       "    </tr>\n",
       "    <tr>\n",
       "      <th>25%</th>\n",
       "      <td>-6.892631e-01</td>\n",
       "      <td>-8.606296e-01</td>\n",
       "      <td>-5.566641e-01</td>\n",
       "      <td>-7.581134e-01</td>\n",
       "      <td>-7.469581e-01</td>\n",
       "      <td>-7.501724e-01</td>\n",
       "      <td>-3.420862e-01</td>\n",
       "      <td>-5.952722e-01</td>\n",
       "      <td>-5.803795e-01</td>\n",
       "      <td>-7.579977e-01</td>\n",
       "      <td>...</td>\n",
       "      <td>-6.172155e-01</td>\n",
       "      <td>-6.309583e-01</td>\n",
       "      <td>-6.519382e-01</td>\n",
       "      <td>-6.067549e-01</td>\n",
       "      <td>-6.341930e-01</td>\n",
       "      <td>-5.935025e-01</td>\n",
       "      <td>-7.341835e-01</td>\n",
       "      <td>-7.317489e-01</td>\n",
       "      <td>0.0</td>\n",
       "      <td>-1.152789e+00</td>\n",
       "    </tr>\n",
       "    <tr>\n",
       "      <th>50%</th>\n",
       "      <td>-1.513017e-01</td>\n",
       "      <td>2.694082e-01</td>\n",
       "      <td>-4.292533e-01</td>\n",
       "      <td>-8.049398e-02</td>\n",
       "      <td>-2.158390e-01</td>\n",
       "      <td>-2.011583e-01</td>\n",
       "      <td>9.402321e-02</td>\n",
       "      <td>-3.745755e-01</td>\n",
       "      <td>-4.171498e-01</td>\n",
       "      <td>-7.579977e-01</td>\n",
       "      <td>...</td>\n",
       "      <td>-1.810401e-01</td>\n",
       "      <td>-2.429846e-01</td>\n",
       "      <td>-2.914679e-01</td>\n",
       "      <td>-1.350578e-01</td>\n",
       "      <td>-1.961073e-01</td>\n",
       "      <td>-1.858866e-01</td>\n",
       "      <td>1.613925e-02</td>\n",
       "      <td>-2.227349e-01</td>\n",
       "      <td>0.0</td>\n",
       "      <td>8.674614e-01</td>\n",
       "    </tr>\n",
       "    <tr>\n",
       "      <th>75%</th>\n",
       "      <td>3.866598e-01</td>\n",
       "      <td>9.097630e-01</td>\n",
       "      <td>-7.887339e-02</td>\n",
       "      <td>7.613969e-01</td>\n",
       "      <td>5.365797e-01</td>\n",
       "      <td>5.590150e-01</td>\n",
       "      <td>4.904863e-01</td>\n",
       "      <td>6.681810e-02</td>\n",
       "      <td>1.541540e-01</td>\n",
       "      <td>9.246107e-01</td>\n",
       "      <td>...</td>\n",
       "      <td>2.551353e-01</td>\n",
       "      <td>3.566112e-01</td>\n",
       "      <td>3.693943e-01</td>\n",
       "      <td>3.366393e-01</td>\n",
       "      <td>2.293549e-02</td>\n",
       "      <td>3.576014e-01</td>\n",
       "      <td>6.592731e-01</td>\n",
       "      <td>5.407860e-01</td>\n",
       "      <td>0.0</td>\n",
       "      <td>8.674614e-01</td>\n",
       "    </tr>\n",
       "    <tr>\n",
       "      <th>max</th>\n",
       "      <td>5.766274e+00</td>\n",
       "      <td>1.361778e+00</td>\n",
       "      <td>2.798489e+00</td>\n",
       "      <td>2.907192e+00</td>\n",
       "      <td>7.441128e+00</td>\n",
       "      <td>6.809329e+00</td>\n",
       "      <td>5.674241e+00</td>\n",
       "      <td>6.687721e+00</td>\n",
       "      <td>6.438496e+00</td>\n",
       "      <td>4.740722e+00</td>\n",
       "      <td>...</td>\n",
       "      <td>6.361591e+00</td>\n",
       "      <td>7.728111e+00</td>\n",
       "      <td>5.896606e+00</td>\n",
       "      <td>5.997005e+00</td>\n",
       "      <td>1.141316e+01</td>\n",
       "      <td>4.977249e+00</td>\n",
       "      <td>2.910241e+00</td>\n",
       "      <td>7.141000e+00</td>\n",
       "      <td>0.0</td>\n",
       "      <td>8.674614e-01</td>\n",
       "    </tr>\n",
       "  </tbody>\n",
       "</table>\n",
       "<p>8 rows × 28 columns</p>\n",
       "</div>"
      ],
      "text/plain": [
       "                AGE             G            GS            MP            FG  \\\n",
       "count  2.464000e+03  2.464000e+03  2.464000e+03  2.464000e+03  2.464000e+03   \n",
       "mean  -5.736978e-17  5.046468e-17 -5.528586e-17  7.682347e-17 -9.439599e-18   \n",
       "std    1.000203e+00  1.000203e+00  1.000203e+00  1.000203e+00  1.000203e+00   \n",
       "min   -3.917032e+00 -1.877664e+00 -6.840750e-01 -2.072285e+00 -1.410857e+00   \n",
       "25%   -6.892631e-01 -8.606296e-01 -5.566641e-01 -7.581134e-01 -7.469581e-01   \n",
       "50%   -1.513017e-01  2.694082e-01 -4.292533e-01 -8.049398e-02 -2.158390e-01   \n",
       "75%    3.866598e-01  9.097630e-01 -7.887339e-02  7.613969e-01  5.365797e-01   \n",
       "max    5.766274e+00  1.361778e+00  2.798489e+00  2.907192e+00  7.441128e+00   \n",
       "\n",
       "                FGA           FG%            3P           3PA           3P%  \\\n",
       "count  2.464000e+03  2.464000e+03  2.464000e+03  2.464000e+03  2.464000e+03   \n",
       "mean   1.910449e-17  7.069111e-16  1.258012e-16  1.714898e-16 -3.561365e-16   \n",
       "std    1.000203e+00  1.000203e+00  1.000203e+00  1.000203e+00  1.000203e+00   \n",
       "min   -1.531462e+00 -4.237336e+00 -5.952722e-01 -6.619943e-01 -7.579977e-01   \n",
       "25%   -7.501724e-01 -3.420862e-01 -5.952722e-01 -5.803795e-01 -7.579977e-01   \n",
       "50%   -2.011583e-01  9.402321e-02 -3.745755e-01 -4.171498e-01 -7.579977e-01   \n",
       "75%    5.590150e-01  4.904863e-01  6.681810e-02  1.541540e-01  9.246107e-01   \n",
       "max    6.809329e+00  5.674241e+00  6.687721e+00  6.438496e+00  4.740722e+00   \n",
       "\n",
       "       ...           DRB           TRB           AST           STL  \\\n",
       "count  ...  2.464000e+03  2.464000e+03  2.464000e+03  2.464000e+03   \n",
       "mean   ... -1.387328e-16 -1.637849e-16 -1.007491e-16 -3.054916e-17   \n",
       "std    ...  1.000203e+00  1.000203e+00  1.000203e+00  1.000203e+00   \n",
       "min    ... -1.489566e+00 -1.336365e+00 -1.072487e+00 -1.550149e+00   \n",
       "25%    ... -6.172155e-01 -6.309583e-01 -6.519382e-01 -6.067549e-01   \n",
       "50%    ... -1.810401e-01 -2.429846e-01 -2.914679e-01 -1.350578e-01   \n",
       "75%    ...  2.551353e-01  3.566112e-01  3.693943e-01  3.366393e-01   \n",
       "max    ...  6.361591e+00  7.728111e+00  5.896606e+00  5.997005e+00   \n",
       "\n",
       "                BLK           TOV            PF           PTS  SEASON_COUNT  \\\n",
       "count  2.464000e+03  2.464000e+03  2.464000e+03  2.464000e+03        2464.0   \n",
       "mean  -6.778939e-17  1.974431e-16 -3.936921e-18  1.065841e-16           0.0   \n",
       "std    1.000203e+00  1.000203e+00  1.000203e+00  1.000203e+00           0.0   \n",
       "min   -8.532358e-01 -1.680478e+00 -2.234829e+00 -1.410434e+00           0.0   \n",
       "25%   -6.341930e-01 -5.935025e-01 -7.341835e-01 -7.317489e-01           0.0   \n",
       "50%   -1.961073e-01 -1.858866e-01  1.613925e-02 -2.227349e-01           0.0   \n",
       "75%    2.293549e-02  3.576014e-01  6.592731e-01  5.407860e-01           0.0   \n",
       "max    1.141316e+01  4.977249e+00  2.910241e+00  7.141000e+00           0.0   \n",
       "\n",
       "            missing  \n",
       "count  2.464000e+03  \n",
       "mean  -1.580626e-16  \n",
       "std    1.000203e+00  \n",
       "min   -1.152789e+00  \n",
       "25%   -1.152789e+00  \n",
       "50%    8.674614e-01  \n",
       "75%    8.674614e-01  \n",
       "max    8.674614e-01  \n",
       "\n",
       "[8 rows x 28 columns]"
      ]
     },
     "execution_count": 18,
     "metadata": {},
     "output_type": "execute_result"
    }
   ],
   "source": [
    "cleaned_df_train[num_columns].describe()"
   ]
  },
  {
   "cell_type": "code",
   "execution_count": 20,
   "metadata": {},
   "outputs": [],
   "source": [
    "#with open('cleaned_df_test.pkl', \"wb\") as f:\n",
    "    #pickle.dump(cleaned_df_test , f)\n",
    "    \n",
    "#with open('cleaned_df_train.pkl', \"wb\") as f1:\n",
    "    #pickle.dump(cleaned_df_train, f1)\n",
    "\n",
    "#with open('y_train.pkl', \"wb\") as f3:\n",
    "    #pickle.dump(y_train, f3)\n",
    "\n",
    "#with open('y_test.pkl', \"wb\") as f4:\n",
    "    #pickle.dump(y_test, f4)"
   ]
  },
  {
   "cell_type": "code",
   "execution_count": 21,
   "metadata": {
    "scrolled": true
   },
   "outputs": [
    {
     "data": {
      "text/plain": [
       "0.9253246753246753"
      ]
     },
     "execution_count": 21,
     "metadata": {},
     "output_type": "execute_result"
    }
   ],
   "source": [
    "dummy_clf = DummyClassifier(strategy=\"most_frequent\")\n",
    "dummy_clf.fit(cleaned_df_train, y_train)\n",
    "dummy_clf.score(cleaned_df_train, y_train)"
   ]
  },
  {
   "cell_type": "code",
   "execution_count": null,
   "metadata": {},
   "outputs": [],
   "source": []
  },
  {
   "cell_type": "code",
   "execution_count": 27,
   "metadata": {},
   "outputs": [],
   "source": [
    "def evaluate_model(model, X, y):\n",
    "    y_pred = model.predict(X)\n",
    "    print(classification_report(y, y_pred))\n",
    "    plot_confusion_matrix(model, X, y,cmap=\"Blues\")"
   ]
  },
  {
   "cell_type": "code",
   "execution_count": 28,
   "metadata": {},
   "outputs": [],
   "source": [
    "dt_pipe= Pipeline(steps= [('col', coltran), ('dt',DecisionTreeClassifier())])"
   ]
  },
  {
   "cell_type": "code",
   "execution_count": 29,
   "metadata": {},
   "outputs": [
    {
     "data": {
      "text/plain": [
       "Pipeline(steps=[('col',\n",
       "                 ColumnTransformer(remainder='passthrough',\n",
       "                                   transformers=[('zero',\n",
       "                                                  Pipeline(steps=[('imputer1',\n",
       "                                                                   SimpleImputer(strategy='median')),\n",
       "                                                                  ('ss',\n",
       "                                                                   StandardScaler())]),\n",
       "                                                  ['AGE', 'G', 'GS', 'MP', 'FG',\n",
       "                                                   'FGA', 'FG%', '3P', '3PA',\n",
       "                                                   '3P%', '2P', '2PA', '2P%',\n",
       "                                                   'eFG%', 'FT', 'FTA', 'FT%',\n",
       "                                                   'ORB', 'DRB', 'TRB', 'AST',\n",
       "                                                   'STL', 'BLK', 'TOV', 'PF',\n",
       "                                                   'PTS', 'SEASON_COUNT',\n",
       "                                                   'missing']),\n",
       "                                                 ('cat_pipe',\n",
       "                                                  Pipeline(steps=[('imputer',\n",
       "                                                                   SimpleImputer(fill_value='missing',\n",
       "                                                                                 strategy='constant')),\n",
       "                                                                  ('ohe',\n",
       "                                                                   OneHotEncoder(handle_unknown='ignore',\n",
       "                                                                                 sparse=False))]),\n",
       "                                                  ['SEASON', 'TEAM', 'LEAGUE',\n",
       "                                                   'POS'])])),\n",
       "                ('dt', DecisionTreeClassifier())])"
      ]
     },
     "execution_count": 29,
     "metadata": {},
     "output_type": "execute_result"
    }
   ],
   "source": [
    "dt_pipe.fit(X_train, y_train)\n"
   ]
  },
  {
   "cell_type": "code",
   "execution_count": 30,
   "metadata": {},
   "outputs": [],
   "source": [
    "score= cross_val_score(dt_pipe, X_train, y_train)"
   ]
  },
  {
   "cell_type": "code",
   "execution_count": 31,
   "metadata": {},
   "outputs": [
    {
     "data": {
      "text/plain": [
       "0.9147734956051388"
      ]
     },
     "execution_count": 31,
     "metadata": {},
     "output_type": "execute_result"
    }
   ],
   "source": [
    "score.mean()"
   ]
  },
  {
   "cell_type": "code",
   "execution_count": 32,
   "metadata": {},
   "outputs": [
    {
     "data": {
      "text/plain": [
       "0.9092382495948136"
      ]
     },
     "execution_count": 32,
     "metadata": {},
     "output_type": "execute_result"
    }
   ],
   "source": [
    "dt_pipe.score(X_test, y_test)\n"
   ]
  },
  {
   "cell_type": "code",
   "execution_count": 33,
   "metadata": {},
   "outputs": [
    {
     "name": "stdout",
     "output_type": "stream",
     "text": [
      "              precision    recall  f1-score   support\n",
      "\n",
      "           0       1.00      1.00      1.00      2280\n",
      "           1       1.00      0.99      1.00       184\n",
      "\n",
      "    accuracy                           1.00      2464\n",
      "   macro avg       1.00      1.00      1.00      2464\n",
      "weighted avg       1.00      1.00      1.00      2464\n",
      "\n"
     ]
    },
    {
     "data": {
      "image/png": "[encoded data removed]",
      "text/plain": [
       "<Figure size 432x288 with 2 Axes>"
      ]
     },
     "metadata": {
      "needs_background": "light"
     },
     "output_type": "display_data"
    }
   ],
   "source": [
    "\n",
    "evaluate_model(dt_pipe, X_train, y_train)"
   ]
  },
  {
   "cell_type": "code",
   "execution_count": 34,
   "metadata": {},
   "outputs": [
    {
     "name": "stdout",
     "output_type": "stream",
     "text": [
      "              precision    recall  f1-score   support\n",
      "\n",
      "           0       0.95      0.95      0.95       571\n",
      "           1       0.39      0.37      0.38        46\n",
      "\n",
      "    accuracy                           0.91       617\n",
      "   macro avg       0.67      0.66      0.66       617\n",
      "weighted avg       0.91      0.91      0.91       617\n",
      "\n"
     ]
    },
    {
     "data": {
      "image/png": "[encoded data removed]",
      "text/plain": [
       "<Figure size 432x288 with 2 Axes>"
      ]
     },
     "metadata": {
      "needs_background": "light"
     },
     "output_type": "display_data"
    }
   ],
   "source": [
    "evaluate_model(dt_pipe, X_test, y_test)\n"
   ]
  },
  {
   "cell_type": "code",
   "execution_count": null,
   "metadata": {},
   "outputs": [],
   "source": []
  },
  {
   "cell_type": "code",
   "execution_count": null,
   "metadata": {},
   "outputs": [],
   "source": [
    "#SMOTE PLUS DECISION TREE MODEL"
   ]
  },
  {
   "cell_type": "code",
   "execution_count": 35,
   "metadata": {},
   "outputs": [],
   "source": [
    "pipe_model = imbpipeline(steps=[\n",
    "    ('col', coltran),\n",
    "    ('smote', SMOTE()),\n",
    "    ('dt', DecisionTreeClassifier())\n",
    "])"
   ]
  },
  {
   "cell_type": "code",
   "execution_count": 36,
   "metadata": {},
   "outputs": [
    {
     "data": {
      "text/plain": [
       "Pipeline(steps=[('col',\n",
       "                 ColumnTransformer(remainder='passthrough',\n",
       "                                   transformers=[('zero',\n",
       "                                                  Pipeline(steps=[('imputer1',\n",
       "                                                                   SimpleImputer(strategy='median')),\n",
       "                                                                  ('ss',\n",
       "                                                                   StandardScaler())]),\n",
       "                                                  ['AGE', 'G', 'GS', 'MP', 'FG',\n",
       "                                                   'FGA', 'FG%', '3P', '3PA',\n",
       "                                                   '3P%', '2P', '2PA', '2P%',\n",
       "                                                   'eFG%', 'FT', 'FTA', 'FT%',\n",
       "                                                   'ORB', 'DRB', 'TRB', 'AST',\n",
       "                                                   'STL', 'BLK', 'TOV', 'PF',\n",
       "                                                   'PTS', 'SEASON_COUNT',\n",
       "                                                   'missing']),\n",
       "                                                 ('cat_pipe',\n",
       "                                                  Pipeline(steps=[('imputer',\n",
       "                                                                   SimpleImputer(fill_value='missing',\n",
       "                                                                                 strategy='constant')),\n",
       "                                                                  ('ohe',\n",
       "                                                                   OneHotEncoder(handle_unknown='ignore',\n",
       "                                                                                 sparse=False))]),\n",
       "                                                  ['SEASON', 'TEAM', 'LEAGUE',\n",
       "                                                   'POS'])])),\n",
       "                ('smote', SMOTE()), ('dt', DecisionTreeClassifier())])"
      ]
     },
     "execution_count": 36,
     "metadata": {},
     "output_type": "execute_result"
    }
   ],
   "source": [
    "pipe_model.fit(X_train, y_train)\n"
   ]
  },
  {
   "cell_type": "code",
   "execution_count": 37,
   "metadata": {},
   "outputs": [
    {
     "name": "stdout",
     "output_type": "stream",
     "text": [
      "              precision    recall  f1-score   support\n",
      "\n",
      "           0       1.00      1.00      1.00      2280\n",
      "           1       1.00      0.99      1.00       184\n",
      "\n",
      "    accuracy                           1.00      2464\n",
      "   macro avg       1.00      1.00      1.00      2464\n",
      "weighted avg       1.00      1.00      1.00      2464\n",
      "\n"
     ]
    },
    {
     "data": {
      "image/png": "[encoded data removed]",
      "text/plain": [
       "<Figure size 432x288 with 2 Axes>"
      ]
     },
     "metadata": {
      "needs_background": "light"
     },
     "output_type": "display_data"
    }
   ],
   "source": [
    "evaluate_model(pipe_model, X_train, y_train)\n"
   ]
  },
  {
   "cell_type": "code",
   "execution_count": 38,
   "metadata": {},
   "outputs": [
    {
     "name": "stdout",
     "output_type": "stream",
     "text": [
      "              precision    recall  f1-score   support\n",
      "\n",
      "           0       0.97      0.93      0.95       571\n",
      "           1       0.42      0.61      0.50        46\n",
      "\n",
      "    accuracy                           0.91       617\n",
      "   macro avg       0.69      0.77      0.72       617\n",
      "weighted avg       0.93      0.91      0.92       617\n",
      "\n"
     ]
    },
    {
     "data": {
      "image/png": "[encoded data removed]",
      "text/plain": [
       "<Figure size 432x288 with 2 Axes>"
      ]
     },
     "metadata": {
      "needs_background": "light"
     },
     "output_type": "display_data"
    }
   ],
   "source": [
    "evaluate_model(pipe_model, X_test, y_test)\n"
   ]
  },
  {
   "cell_type": "code",
   "execution_count": null,
   "metadata": {},
   "outputs": [],
   "source": []
  },
  {
   "cell_type": "code",
   "execution_count": null,
   "metadata": {},
   "outputs": [],
   "source": [
    "#Grid Search and smote "
   ]
  },
  {
   "cell_type": "code",
   "execution_count": 39,
   "metadata": {},
   "outputs": [
    {
     "name": "stdout",
     "output_type": "stream",
     "text": [
      "Fitting 5 folds for each of 6 candidates, totalling 30 fits\n",
      "[CV] dt__criterion=gini, dt__max_depth=None ..........................\n"
     ]
    },
    {
     "name": "stderr",
     "output_type": "stream",
     "text": [
      "[Parallel(n_jobs=1)]: Using backend SequentialBackend with 1 concurrent workers.\n"
     ]
    },
    {
     "name": "stdout",
     "output_type": "stream",
     "text": [
      "[CV] ........... dt__criterion=gini, dt__max_depth=None, total=   0.3s\n",
      "[CV] dt__criterion=gini, dt__max_depth=None ..........................\n"
     ]
    },
    {
     "name": "stderr",
     "output_type": "stream",
     "text": [
      "[Parallel(n_jobs=1)]: Done   1 out of   1 | elapsed:    0.2s remaining:    0.0s\n"
     ]
    },
    {
     "name": "stdout",
     "output_type": "stream",
     "text": [
      "[CV] ........... dt__criterion=gini, dt__max_depth=None, total=   0.3s\n",
      "[CV] dt__criterion=gini, dt__max_depth=None ..........................\n",
      "[CV] ........... dt__criterion=gini, dt__max_depth=None, total=   0.3s\n",
      "[CV] dt__criterion=gini, dt__max_depth=None ..........................\n",
      "[CV] ........... dt__criterion=gini, dt__max_depth=None, total=   0.3s\n",
      "[CV] dt__criterion=gini, dt__max_depth=None ..........................\n",
      "[CV] ........... dt__criterion=gini, dt__max_depth=None, total=   0.3s\n",
      "[CV] dt__criterion=gini, dt__max_depth=5 .............................\n",
      "[CV] .............. dt__criterion=gini, dt__max_depth=5, total=   0.1s\n",
      "[CV] dt__criterion=gini, dt__max_depth=5 .............................\n",
      "[CV] .............. dt__criterion=gini, dt__max_depth=5, total=   0.1s\n",
      "[CV] dt__criterion=gini, dt__max_depth=5 .............................\n",
      "[CV] .............. dt__criterion=gini, dt__max_depth=5, total=   0.2s\n",
      "[CV] dt__criterion=gini, dt__max_depth=5 .............................\n",
      "[CV] .............. dt__criterion=gini, dt__max_depth=5, total=   0.1s\n",
      "[CV] dt__criterion=gini, dt__max_depth=5 .............................\n",
      "[CV] .............. dt__criterion=gini, dt__max_depth=5, total=   0.1s\n",
      "[CV] dt__criterion=gini, dt__max_depth=9 .............................\n",
      "[CV] .............. dt__criterion=gini, dt__max_depth=9, total=   0.2s\n",
      "[CV] dt__criterion=gini, dt__max_depth=9 .............................\n",
      "[CV] .............. dt__criterion=gini, dt__max_depth=9, total=   0.2s\n",
      "[CV] dt__criterion=gini, dt__max_depth=9 .............................\n",
      "[CV] .............. dt__criterion=gini, dt__max_depth=9, total=   0.2s\n",
      "[CV] dt__criterion=gini, dt__max_depth=9 .............................\n",
      "[CV] .............. dt__criterion=gini, dt__max_depth=9, total=   0.2s\n",
      "[CV] dt__criterion=gini, dt__max_depth=9 .............................\n",
      "[CV] .............. dt__criterion=gini, dt__max_depth=9, total=   0.2s\n",
      "[CV] dt__criterion=entropy, dt__max_depth=None .......................\n",
      "[CV] ........ dt__criterion=entropy, dt__max_depth=None, total=   0.2s\n",
      "[CV] dt__criterion=entropy, dt__max_depth=None .......................\n",
      "[CV] ........ dt__criterion=entropy, dt__max_depth=None, total=   0.2s\n",
      "[CV] dt__criterion=entropy, dt__max_depth=None .......................\n",
      "[CV] ........ dt__criterion=entropy, dt__max_depth=None, total=   0.2s\n",
      "[CV] dt__criterion=entropy, dt__max_depth=None .......................\n",
      "[CV] ........ dt__criterion=entropy, dt__max_depth=None, total=   0.2s\n",
      "[CV] dt__criterion=entropy, dt__max_depth=None .......................\n",
      "[CV] ........ dt__criterion=entropy, dt__max_depth=None, total=   0.2s\n",
      "[CV] dt__criterion=entropy, dt__max_depth=5 ..........................\n",
      "[CV] ........... dt__criterion=entropy, dt__max_depth=5, total=   0.2s\n",
      "[CV] dt__criterion=entropy, dt__max_depth=5 ..........................\n",
      "[CV] ........... dt__criterion=entropy, dt__max_depth=5, total=   0.2s\n",
      "[CV] dt__criterion=entropy, dt__max_depth=5 ..........................\n",
      "[CV] ........... dt__criterion=entropy, dt__max_depth=5, total=   0.2s\n",
      "[CV] dt__criterion=entropy, dt__max_depth=5 ..........................\n",
      "[CV] ........... dt__criterion=entropy, dt__max_depth=5, total=   0.2s\n",
      "[CV] dt__criterion=entropy, dt__max_depth=5 ..........................\n",
      "[CV] ........... dt__criterion=entropy, dt__max_depth=5, total=   0.2s\n",
      "[CV] dt__criterion=entropy, dt__max_depth=9 ..........................\n",
      "[CV] ........... dt__criterion=entropy, dt__max_depth=9, total=   0.2s\n",
      "[CV] dt__criterion=entropy, dt__max_depth=9 ..........................\n",
      "[CV] ........... dt__criterion=entropy, dt__max_depth=9, total=   0.2s\n",
      "[CV] dt__criterion=entropy, dt__max_depth=9 ..........................\n",
      "[CV] ........... dt__criterion=entropy, dt__max_depth=9, total=   0.2s\n",
      "[CV] dt__criterion=entropy, dt__max_depth=9 ..........................\n",
      "[CV] ........... dt__criterion=entropy, dt__max_depth=9, total=   0.2s\n",
      "[CV] dt__criterion=entropy, dt__max_depth=9 ..........................\n",
      "[CV] ........... dt__criterion=entropy, dt__max_depth=9, total=   0.2s\n"
     ]
    },
    {
     "name": "stderr",
     "output_type": "stream",
     "text": [
      "[Parallel(n_jobs=1)]: Done  30 out of  30 | elapsed:    6.1s finished\n"
     ]
    },
    {
     "data": {
      "text/plain": [
       "{'dt__criterion': 'entropy', 'dt__max_depth': 9}"
      ]
     },
     "execution_count": 39,
     "metadata": {},
     "output_type": "execute_result"
    }
   ],
   "source": [
    "param_grid = {'dt__criterion' :['gini', 'entropy'],\n",
    "    'dt__max_depth': [None, 5, 9]\n",
    "}\n",
    "\n",
    "grid = GridSearchCV(pipe_model, param_grid, scoring='f1_macro', verbose=2)\n",
    "grid.fit(X_train, y_train)\n",
    "\n",
    "grid.best_params_"
   ]
  },
  {
   "cell_type": "code",
   "execution_count": 40,
   "metadata": {},
   "outputs": [
    {
     "data": {
      "text/html": [
       "<div>\n",
       "<style scoped>\n",
       "    .dataframe tbody tr th:only-of-type {\n",
       "        vertical-align: middle;\n",
       "    }\n",
       "\n",
       "    .dataframe tbody tr th {\n",
       "        vertical-align: top;\n",
       "    }\n",
       "\n",
       "    .dataframe thead th {\n",
       "        text-align: right;\n",
       "    }\n",
       "</style>\n",
       "<table border=\"1\" class=\"dataframe\">\n",
       "  <thead>\n",
       "    <tr style=\"text-align: right;\">\n",
       "      <th></th>\n",
       "      <th>mean_fit_time</th>\n",
       "      <th>std_fit_time</th>\n",
       "      <th>mean_score_time</th>\n",
       "      <th>std_score_time</th>\n",
       "      <th>param_dt__criterion</th>\n",
       "      <th>param_dt__max_depth</th>\n",
       "      <th>params</th>\n",
       "      <th>split0_test_score</th>\n",
       "      <th>split1_test_score</th>\n",
       "      <th>split2_test_score</th>\n",
       "      <th>split3_test_score</th>\n",
       "      <th>split4_test_score</th>\n",
       "      <th>mean_test_score</th>\n",
       "      <th>std_test_score</th>\n",
       "      <th>rank_test_score</th>\n",
       "    </tr>\n",
       "  </thead>\n",
       "  <tbody>\n",
       "    <tr>\n",
       "      <th>0</th>\n",
       "      <td>0.282544</td>\n",
       "      <td>0.009189</td>\n",
       "      <td>0.006526</td>\n",
       "      <td>0.003729</td>\n",
       "      <td>gini</td>\n",
       "      <td>None</td>\n",
       "      <td>{'dt__criterion': 'gini', 'dt__max_depth': None}</td>\n",
       "      <td>0.660871</td>\n",
       "      <td>0.628368</td>\n",
       "      <td>0.659906</td>\n",
       "      <td>0.643580</td>\n",
       "      <td>0.642173</td>\n",
       "      <td>0.646980</td>\n",
       "      <td>0.012175</td>\n",
       "      <td>6</td>\n",
       "    </tr>\n",
       "    <tr>\n",
       "      <th>1</th>\n",
       "      <td>0.148122</td>\n",
       "      <td>0.036596</td>\n",
       "      <td>0.005631</td>\n",
       "      <td>0.004653</td>\n",
       "      <td>gini</td>\n",
       "      <td>5</td>\n",
       "      <td>{'dt__criterion': 'gini', 'dt__max_depth': 5}</td>\n",
       "      <td>0.693816</td>\n",
       "      <td>0.674992</td>\n",
       "      <td>0.652442</td>\n",
       "      <td>0.656859</td>\n",
       "      <td>0.688734</td>\n",
       "      <td>0.673369</td>\n",
       "      <td>0.016537</td>\n",
       "      <td>4</td>\n",
       "    </tr>\n",
       "    <tr>\n",
       "      <th>2</th>\n",
       "      <td>0.196536</td>\n",
       "      <td>0.011582</td>\n",
       "      <td>0.009760</td>\n",
       "      <td>0.001141</td>\n",
       "      <td>gini</td>\n",
       "      <td>9</td>\n",
       "      <td>{'dt__criterion': 'gini', 'dt__max_depth': 9}</td>\n",
       "      <td>0.691025</td>\n",
       "      <td>0.685618</td>\n",
       "      <td>0.665427</td>\n",
       "      <td>0.661633</td>\n",
       "      <td>0.632179</td>\n",
       "      <td>0.667177</td>\n",
       "      <td>0.020820</td>\n",
       "      <td>5</td>\n",
       "    </tr>\n",
       "    <tr>\n",
       "      <th>3</th>\n",
       "      <td>0.207998</td>\n",
       "      <td>0.016373</td>\n",
       "      <td>0.007754</td>\n",
       "      <td>0.003071</td>\n",
       "      <td>entropy</td>\n",
       "      <td>None</td>\n",
       "      <td>{'dt__criterion': 'entropy', 'dt__max_depth': ...</td>\n",
       "      <td>0.676622</td>\n",
       "      <td>0.619171</td>\n",
       "      <td>0.700717</td>\n",
       "      <td>0.690383</td>\n",
       "      <td>0.703943</td>\n",
       "      <td>0.678167</td>\n",
       "      <td>0.031000</td>\n",
       "      <td>3</td>\n",
       "    </tr>\n",
       "    <tr>\n",
       "      <th>4</th>\n",
       "      <td>0.150691</td>\n",
       "      <td>0.003306</td>\n",
       "      <td>0.007024</td>\n",
       "      <td>0.003609</td>\n",
       "      <td>entropy</td>\n",
       "      <td>5</td>\n",
       "      <td>{'dt__criterion': 'entropy', 'dt__max_depth': 5}</td>\n",
       "      <td>0.660991</td>\n",
       "      <td>0.682321</td>\n",
       "      <td>0.699723</td>\n",
       "      <td>0.707680</td>\n",
       "      <td>0.648084</td>\n",
       "      <td>0.679760</td>\n",
       "      <td>0.022540</td>\n",
       "      <td>2</td>\n",
       "    </tr>\n",
       "    <tr>\n",
       "      <th>5</th>\n",
       "      <td>0.173395</td>\n",
       "      <td>0.007151</td>\n",
       "      <td>0.014608</td>\n",
       "      <td>0.004877</td>\n",
       "      <td>entropy</td>\n",
       "      <td>9</td>\n",
       "      <td>{'dt__criterion': 'entropy', 'dt__max_depth': 9}</td>\n",
       "      <td>0.699953</td>\n",
       "      <td>0.691219</td>\n",
       "      <td>0.694320</td>\n",
       "      <td>0.710322</td>\n",
       "      <td>0.696579</td>\n",
       "      <td>0.698479</td>\n",
       "      <td>0.006573</td>\n",
       "      <td>1</td>\n",
       "    </tr>\n",
       "  </tbody>\n",
       "</table>\n",
       "</div>"
      ],
      "text/plain": [
       "   mean_fit_time  std_fit_time  mean_score_time  std_score_time  \\\n",
       "0       0.282544      0.009189         0.006526        0.003729   \n",
       "1       0.148122      0.036596         0.005631        0.004653   \n",
       "2       0.196536      0.011582         0.009760        0.001141   \n",
       "3       0.207998      0.016373         0.007754        0.003071   \n",
       "4       0.150691      0.003306         0.007024        0.003609   \n",
       "5       0.173395      0.007151         0.014608        0.004877   \n",
       "\n",
       "  param_dt__criterion param_dt__max_depth  \\\n",
       "0                gini                None   \n",
       "1                gini                   5   \n",
       "2                gini                   9   \n",
       "3             entropy                None   \n",
       "4             entropy                   5   \n",
       "5             entropy                   9   \n",
       "\n",
       "                                              params  split0_test_score  \\\n",
       "0   {'dt__criterion': 'gini', 'dt__max_depth': None}           0.660871   \n",
       "1      {'dt__criterion': 'gini', 'dt__max_depth': 5}           0.693816   \n",
       "2      {'dt__criterion': 'gini', 'dt__max_depth': 9}           0.691025   \n",
       "3  {'dt__criterion': 'entropy', 'dt__max_depth': ...           0.676622   \n",
       "4   {'dt__criterion': 'entropy', 'dt__max_depth': 5}           0.660991   \n",
       "5   {'dt__criterion': 'entropy', 'dt__max_depth': 9}           0.699953   \n",
       "\n",
       "   split1_test_score  split2_test_score  split3_test_score  split4_test_score  \\\n",
       "0           0.628368           0.659906           0.643580           0.642173   \n",
       "1           0.674992           0.652442           0.656859           0.688734   \n",
       "2           0.685618           0.665427           0.661633           0.632179   \n",
       "3           0.619171           0.700717           0.690383           0.703943   \n",
       "4           0.682321           0.699723           0.707680           0.648084   \n",
       "5           0.691219           0.694320           0.710322           0.696579   \n",
       "\n",
       "   mean_test_score  std_test_score  rank_test_score  \n",
       "0         0.646980        0.012175                6  \n",
       "1         0.673369        0.016537                4  \n",
       "2         0.667177        0.020820                5  \n",
       "3         0.678167        0.031000                3  \n",
       "4         0.679760        0.022540                2  \n",
       "5         0.698479        0.006573                1  "
      ]
     },
     "execution_count": 40,
     "metadata": {},
     "output_type": "execute_result"
    }
   ],
   "source": [
    "pd.DataFrame(grid.cv_results_)"
   ]
  },
  {
   "cell_type": "code",
   "execution_count": null,
   "metadata": {},
   "outputs": [],
   "source": [
    "\n"
   ]
  },
  {
   "cell_type": "code",
   "execution_count": 41,
   "metadata": {},
   "outputs": [
    {
     "data": {
      "text/plain": [
       "Pipeline(steps=[('col',\n",
       "                 ColumnTransformer(remainder='passthrough',\n",
       "                                   transformers=[('zero',\n",
       "                                                  Pipeline(steps=[('imputer1',\n",
       "                                                                   SimpleImputer(strategy='median')),\n",
       "                                                                  ('ss',\n",
       "                                                                   StandardScaler())]),\n",
       "                                                  ['AGE', 'G', 'GS', 'MP', 'FG',\n",
       "                                                   'FGA', 'FG%', '3P', '3PA',\n",
       "                                                   '3P%', '2P', '2PA', '2P%',\n",
       "                                                   'eFG%', 'FT', 'FTA', 'FT%',\n",
       "                                                   'ORB', 'DRB', 'TRB', 'AST',\n",
       "                                                   'STL', 'BLK', 'TOV', 'PF',\n",
       "                                                   'PTS', 'SEASON_COUNT',\n",
       "                                                   'missing']),\n",
       "                                                 ('cat_pipe',\n",
       "                                                  Pipeline(steps=[('imputer',\n",
       "                                                                   SimpleImputer(fill_value='missing',\n",
       "                                                                                 strategy='constant')),\n",
       "                                                                  ('ohe',\n",
       "                                                                   OneHotEncoder(handle_unknown='ignore',\n",
       "                                                                                 sparse=False))]),\n",
       "                                                  ['SEASON', 'TEAM', 'LEAGUE',\n",
       "                                                   'POS'])])),\n",
       "                ('smote', SMOTE()),\n",
       "                ('dt',\n",
       "                 DecisionTreeClassifier(criterion='entropy', max_depth=9))])"
      ]
     },
     "execution_count": 41,
     "metadata": {},
     "output_type": "execute_result"
    }
   ],
   "source": [
    "best_model = grid.best_estimator_\n",
    "best_model.fit(X_train, y_train)"
   ]
  },
  {
   "cell_type": "code",
   "execution_count": 42,
   "metadata": {},
   "outputs": [
    {
     "name": "stdout",
     "output_type": "stream",
     "text": [
      "              precision    recall  f1-score   support\n",
      "\n",
      "           0       0.96      0.92      0.94       571\n",
      "           1       0.34      0.50      0.41        46\n",
      "\n",
      "    accuracy                           0.89       617\n",
      "   macro avg       0.65      0.71      0.67       617\n",
      "weighted avg       0.91      0.89      0.90       617\n",
      "\n"
     ]
    },
    {
     "data": {
      "image/png": "[encoded data removed]",
      "text/plain": [
       "<Figure size 432x288 with 2 Axes>"
      ]
     },
     "metadata": {
      "needs_background": "light"
     },
     "output_type": "display_data"
    }
   ],
   "source": [
    "\n",
    "evaluate_model(best_model, X_test, y_test)"
   ]
  },
  {
   "cell_type": "code",
   "execution_count": 43,
   "metadata": {},
   "outputs": [
    {
     "data": {
      "image/png": "[encoded data removed]",
      "text/plain": [
       "<Figure size 432x288 with 1 Axes>"
      ]
     },
     "metadata": {
      "needs_background": "light"
     },
     "output_type": "display_data"
    }
   ],
   "source": [
    "\n",
    "fig, axes = plt.subplots()\n",
    "plot_tree(best_model['dt'])\n",
    "plt.show()"
   ]
  },
  {
   "cell_type": "code",
   "execution_count": null,
   "metadata": {},
   "outputs": [],
   "source": []
  },
  {
   "cell_type": "code",
   "execution_count": 44,
   "metadata": {},
   "outputs": [],
   "source": [
    "#top features forr decision tree and smote "
   ]
  },
  {
   "cell_type": "code",
   "execution_count": 45,
   "metadata": {},
   "outputs": [],
   "source": [
    "cat_columns= [col for col in X.columns if X[col].dtype in ['object']]\n",
    "\n",
    "cat_ohe_cols = best_model.named_steps['col'].named_transformers_['cat_pipe']['ohe'].get_feature_names(cat_columns).tolist()"
   ]
  },
  {
   "cell_type": "code",
   "execution_count": 46,
   "metadata": {},
   "outputs": [
    {
     "data": {
      "image/png": "[encoded data removed]",
      "text/plain": [
       "<Figure size 432x288 with 1 Axes>"
      ]
     },
     "metadata": {
      "needs_background": "light"
     },
     "output_type": "display_data"
    }
   ],
   "source": [
    "feat_cols = num_columns+ cat_ohe_cols \n",
    "\n",
    "X_train_tf = pd.DataFrame(best_model.named_steps['col'].fit_transform(X_train), columns=all_columns)\n",
    "\n",
    "\n",
    "important_feats = pd.Series(best_model.named_steps['dt'].feature_importances_, \n",
    "                           index=feat_cols)\n",
    "\n",
    "important_feats.sort_values(ascending=False)[:5]\n",
    "\n",
    "top_feats = important_feats.sort_values(ascending=False).head(10)\n",
    "plt.Figure(figsize=(5, 5))\n",
    "top_feats.sort_values().plot(kind='barh')\n",
    "plt.xlabel('Level of importance')\n",
    "plt.ylabel('Features')\n",
    "plt.title('Best Features');\n"
   ]
  },
  {
   "cell_type": "code",
   "execution_count": null,
   "metadata": {},
   "outputs": [],
   "source": []
  },
  {
   "cell_type": "code",
   "execution_count": null,
   "metadata": {},
   "outputs": [],
   "source": []
  },
  {
   "cell_type": "code",
   "execution_count": null,
   "metadata": {},
   "outputs": [],
   "source": [
    "#feature selection "
   ]
  },
  {
   "cell_type": "code",
   "execution_count": 47,
   "metadata": {},
   "outputs": [
    {
     "name": "stdout",
     "output_type": "stream",
     "text": [
      "0.9995941558441559\n",
      "0.9205834683954619\n",
      "\n",
      "\n",
      "0.9987824675324676\n",
      "0.9173419773095624\n",
      "\n",
      "\n",
      "0.9987824675324676\n",
      "0.9173419773095624\n",
      "\n",
      "\n",
      "0.9987824675324676\n",
      "0.9189627228525121\n",
      "\n",
      "\n",
      "0.9987824675324676\n",
      "0.9157212317666127\n",
      "\n",
      "\n",
      "0.9987824675324676\n",
      "0.9076175040518638\n",
      "\n",
      "\n"
     ]
    }
   ],
   "source": [
    "\n",
    "threshold_ranges= np.linspace(0,1, num=6)\n",
    "\n",
    "for thresh in threshold_ranges:\n",
    "    selector = VarianceThreshold(thresh)\n",
    "    reduce_featrue_train= selector.fit_transform(cleaned_df_train)\n",
    "    reduce_featrue_test= selector.transform(cleaned_df_test)\n",
    "    base2 = DecisionTreeClassifier()\n",
    "    base2.fit(reduce_featrue_train, y_train)\n",
    "    print(base2.score(reduce_featrue_train, y_train))\n",
    "    print(base2.score(reduce_featrue_test, y_test))\n",
    "    print(\"\\n\")"
   ]
  },
  {
   "cell_type": "code",
   "execution_count": 48,
   "metadata": {},
   "outputs": [
    {
     "data": {
      "text/html": [
       "<div>\n",
       "<style scoped>\n",
       "    .dataframe tbody tr th:only-of-type {\n",
       "        vertical-align: middle;\n",
       "    }\n",
       "\n",
       "    .dataframe tbody tr th {\n",
       "        vertical-align: top;\n",
       "    }\n",
       "\n",
       "    .dataframe thead th {\n",
       "        text-align: right;\n",
       "    }\n",
       "</style>\n",
       "<table border=\"1\" class=\"dataframe\">\n",
       "  <thead>\n",
       "    <tr style=\"text-align: right;\">\n",
       "      <th></th>\n",
       "      <th>AGE</th>\n",
       "      <th>G</th>\n",
       "      <th>GS</th>\n",
       "      <th>MP</th>\n",
       "      <th>FGA</th>\n",
       "      <th>FG%</th>\n",
       "      <th>3P</th>\n",
       "      <th>2PA</th>\n",
       "      <th>FT</th>\n",
       "      <th>FT%</th>\n",
       "      <th>TRB</th>\n",
       "      <th>TOV</th>\n",
       "      <th>PTS</th>\n",
       "    </tr>\n",
       "  </thead>\n",
       "  <tbody>\n",
       "    <tr>\n",
       "      <th>0</th>\n",
       "      <td>-0.689263</td>\n",
       "      <td>-0.822962</td>\n",
       "      <td>-0.641605</td>\n",
       "      <td>-0.460372</td>\n",
       "      <td>-0.539013</td>\n",
       "      <td>-0.084385</td>\n",
       "      <td>0.287515</td>\n",
       "      <td>-0.512282</td>\n",
       "      <td>-0.545519</td>\n",
       "      <td>0.603747</td>\n",
       "      <td>-1.018932</td>\n",
       "      <td>-1.408734</td>\n",
       "      <td>-0.511176</td>\n",
       "    </tr>\n",
       "    <tr>\n",
       "      <th>1</th>\n",
       "      <td>0.386660</td>\n",
       "      <td>0.947431</td>\n",
       "      <td>0.335212</td>\n",
       "      <td>-0.224231</td>\n",
       "      <td>-0.285622</td>\n",
       "      <td>0.252608</td>\n",
       "      <td>-0.595272</td>\n",
       "      <td>-0.013827</td>\n",
       "      <td>-0.825625</td>\n",
       "      <td>-0.634611</td>\n",
       "      <td>0.391881</td>\n",
       "      <td>-0.321759</td>\n",
       "      <td>-0.409373</td>\n",
       "    </tr>\n",
       "    <tr>\n",
       "      <th>2</th>\n",
       "      <td>-0.689263</td>\n",
       "      <td>0.005733</td>\n",
       "      <td>1.014736</td>\n",
       "      <td>0.268583</td>\n",
       "      <td>0.347856</td>\n",
       "      <td>-0.074474</td>\n",
       "      <td>1.170302</td>\n",
       "      <td>0.160632</td>\n",
       "      <td>-0.055333</td>\n",
       "      <td>1.014001</td>\n",
       "      <td>-0.278255</td>\n",
       "      <td>0.221729</td>\n",
       "      <td>0.269312</td>\n",
       "    </tr>\n",
       "    <tr>\n",
       "      <th>3</th>\n",
       "      <td>0.386660</td>\n",
       "      <td>-1.802328</td>\n",
       "      <td>-0.429253</td>\n",
       "      <td>-1.322796</td>\n",
       "      <td>-1.256955</td>\n",
       "      <td>0.718453</td>\n",
       "      <td>-0.595272</td>\n",
       "      <td>-1.110428</td>\n",
       "      <td>-0.685572</td>\n",
       "      <td>-2.898603</td>\n",
       "      <td>-0.877851</td>\n",
       "      <td>-0.321759</td>\n",
       "      <td>-1.071092</td>\n",
       "    </tr>\n",
       "    <tr>\n",
       "      <th>4</th>\n",
       "      <td>-2.303147</td>\n",
       "      <td>0.269408</td>\n",
       "      <td>-0.429253</td>\n",
       "      <td>-0.080494</td>\n",
       "      <td>-0.201158</td>\n",
       "      <td>0.094023</td>\n",
       "      <td>-0.374575</td>\n",
       "      <td>-0.263054</td>\n",
       "      <td>-0.265413</td>\n",
       "      <td>0.155507</td>\n",
       "      <td>-0.242985</td>\n",
       "      <td>-0.185887</td>\n",
       "      <td>-0.222735</td>\n",
       "    </tr>\n",
       "    <tr>\n",
       "      <th>...</th>\n",
       "      <td>...</td>\n",
       "      <td>...</td>\n",
       "      <td>...</td>\n",
       "      <td>...</td>\n",
       "      <td>...</td>\n",
       "      <td>...</td>\n",
       "      <td>...</td>\n",
       "      <td>...</td>\n",
       "      <td>...</td>\n",
       "      <td>...</td>\n",
       "      <td>...</td>\n",
       "      <td>...</td>\n",
       "      <td>...</td>\n",
       "    </tr>\n",
       "    <tr>\n",
       "      <th>2459</th>\n",
       "      <td>2.538505</td>\n",
       "      <td>0.985099</td>\n",
       "      <td>-0.429253</td>\n",
       "      <td>1.664889</td>\n",
       "      <td>2.459448</td>\n",
       "      <td>-0.104208</td>\n",
       "      <td>2.494483</td>\n",
       "      <td>2.378757</td>\n",
       "      <td>2.955806</td>\n",
       "      <td>1.348281</td>\n",
       "      <td>-0.207714</td>\n",
       "      <td>2.123937</td>\n",
       "      <td>2.508973</td>\n",
       "    </tr>\n",
       "    <tr>\n",
       "      <th>2460</th>\n",
       "      <td>0.924621</td>\n",
       "      <td>0.533084</td>\n",
       "      <td>-0.684075</td>\n",
       "      <td>-0.891584</td>\n",
       "      <td>-0.560129</td>\n",
       "      <td>0.222874</td>\n",
       "      <td>1.170302</td>\n",
       "      <td>-0.761509</td>\n",
       "      <td>-0.405466</td>\n",
       "      <td>0.808874</td>\n",
       "      <td>-0.772040</td>\n",
       "      <td>-0.729375</td>\n",
       "      <td>-0.392406</td>\n",
       "    </tr>\n",
       "    <tr>\n",
       "      <th>2461</th>\n",
       "      <td>-0.689263</td>\n",
       "      <td>-0.672290</td>\n",
       "      <td>0.335212</td>\n",
       "      <td>0.689528</td>\n",
       "      <td>0.390088</td>\n",
       "      <td>0.995977</td>\n",
       "      <td>0.287515</td>\n",
       "      <td>0.534474</td>\n",
       "      <td>0.014693</td>\n",
       "      <td>-0.824543</td>\n",
       "      <td>1.026748</td>\n",
       "      <td>-0.185887</td>\n",
       "      <td>0.574720</td>\n",
       "    </tr>\n",
       "    <tr>\n",
       "      <th>2462</th>\n",
       "      <td>0.924621</td>\n",
       "      <td>-1.011301</td>\n",
       "      <td>-0.429253</td>\n",
       "      <td>0.689528</td>\n",
       "      <td>0.812406</td>\n",
       "      <td>-0.252882</td>\n",
       "      <td>-0.595272</td>\n",
       "      <td>1.282156</td>\n",
       "      <td>1.275170</td>\n",
       "      <td>0.466996</td>\n",
       "      <td>-0.207714</td>\n",
       "      <td>2.803297</td>\n",
       "      <td>0.693490</td>\n",
       "    </tr>\n",
       "    <tr>\n",
       "      <th>2463</th>\n",
       "      <td>-0.151302</td>\n",
       "      <td>0.118737</td>\n",
       "      <td>-0.429253</td>\n",
       "      <td>0.473922</td>\n",
       "      <td>-0.475665</td>\n",
       "      <td>0.777922</td>\n",
       "      <td>-0.595272</td>\n",
       "      <td>-0.213209</td>\n",
       "      <td>-0.825625</td>\n",
       "      <td>-0.239552</td>\n",
       "      <td>-0.701499</td>\n",
       "      <td>0.901089</td>\n",
       "      <td>-0.460275</td>\n",
       "    </tr>\n",
       "  </tbody>\n",
       "</table>\n",
       "<p>2464 rows × 13 columns</p>\n",
       "</div>"
      ],
      "text/plain": [
       "           AGE         G        GS        MP       FGA       FG%        3P  \\\n",
       "0    -0.689263 -0.822962 -0.641605 -0.460372 -0.539013 -0.084385  0.287515   \n",
       "1     0.386660  0.947431  0.335212 -0.224231 -0.285622  0.252608 -0.595272   \n",
       "2    -0.689263  0.005733  1.014736  0.268583  0.347856 -0.074474  1.170302   \n",
       "3     0.386660 -1.802328 -0.429253 -1.322796 -1.256955  0.718453 -0.595272   \n",
       "4    -2.303147  0.269408 -0.429253 -0.080494 -0.201158  0.094023 -0.374575   \n",
       "...        ...       ...       ...       ...       ...       ...       ...   \n",
       "2459  2.538505  0.985099 -0.429253  1.664889  2.459448 -0.104208  2.494483   \n",
       "2460  0.924621  0.533084 -0.684075 -0.891584 -0.560129  0.222874  1.170302   \n",
       "2461 -0.689263 -0.672290  0.335212  0.689528  0.390088  0.995977  0.287515   \n",
       "2462  0.924621 -1.011301 -0.429253  0.689528  0.812406 -0.252882 -0.595272   \n",
       "2463 -0.151302  0.118737 -0.429253  0.473922 -0.475665  0.777922 -0.595272   \n",
       "\n",
       "           2PA        FT       FT%       TRB       TOV       PTS  \n",
       "0    -0.512282 -0.545519  0.603747 -1.018932 -1.408734 -0.511176  \n",
       "1    -0.013827 -0.825625 -0.634611  0.391881 -0.321759 -0.409373  \n",
       "2     0.160632 -0.055333  1.014001 -0.278255  0.221729  0.269312  \n",
       "3    -1.110428 -0.685572 -2.898603 -0.877851 -0.321759 -1.071092  \n",
       "4    -0.263054 -0.265413  0.155507 -0.242985 -0.185887 -0.222735  \n",
       "...        ...       ...       ...       ...       ...       ...  \n",
       "2459  2.378757  2.955806  1.348281 -0.207714  2.123937  2.508973  \n",
       "2460 -0.761509 -0.405466  0.808874 -0.772040 -0.729375 -0.392406  \n",
       "2461  0.534474  0.014693 -0.824543  1.026748 -0.185887  0.574720  \n",
       "2462  1.282156  1.275170  0.466996 -0.207714  2.803297  0.693490  \n",
       "2463 -0.213209 -0.825625 -0.239552 -0.701499  0.901089 -0.460275  \n",
       "\n",
       "[2464 rows x 13 columns]"
      ]
     },
     "execution_count": 48,
     "metadata": {},
     "output_type": "execute_result"
    }
   ],
   "source": [
    "cleaned_df_train[cleaned_df_train.columns[selector.get_support(indices=True)]]"
   ]
  },
  {
   "cell_type": "code",
   "execution_count": null,
   "metadata": {},
   "outputs": [],
   "source": []
  },
  {
   "cell_type": "code",
   "execution_count": 49,
   "metadata": {},
   "outputs": [],
   "source": [
    "#tree pruning and variance threshold data "
   ]
  },
  {
   "cell_type": "code",
   "execution_count": 50,
   "metadata": {},
   "outputs": [],
   "source": [
    "\n",
    "clf = DecisionTreeClassifier()"
   ]
  },
  {
   "cell_type": "code",
   "execution_count": 51,
   "metadata": {},
   "outputs": [],
   "source": [
    "path = clf.cost_complexity_pruning_path(reduce_featrue_train, y_train)"
   ]
  },
  {
   "cell_type": "code",
   "execution_count": 52,
   "metadata": {},
   "outputs": [],
   "source": [
    "ccp_alphas = path.ccp_alphas"
   ]
  },
  {
   "cell_type": "code",
   "execution_count": 53,
   "metadata": {},
   "outputs": [],
   "source": [
    "ccp_alphas = ccp_alphas[:-1]\n"
   ]
  },
  {
   "cell_type": "code",
   "execution_count": 54,
   "metadata": {},
   "outputs": [],
   "source": [
    "clfs= []\n"
   ]
  },
  {
   "cell_type": "code",
   "execution_count": 55,
   "metadata": {},
   "outputs": [
    {
     "name": "stdout",
     "output_type": "stream",
     "text": [
      "Number of nodes in the last tree is: 3 with ccp_alpha: 0.0039780341823630605\n"
     ]
    }
   ],
   "source": [
    "for ccp_alpha in ccp_alphas: \n",
    "    clf =DecisionTreeClassifier(random_state =0, ccp_alpha= ccp_alpha)\n",
    "    clf.fit(reduce_featrue_train, y_train)\n",
    "    clfs.append(clf)\n",
    "print(\"Number of nodes in the last tree is: {} with ccp_alpha: {}\".format(clfs[-1].tree_.node_count, ccp_alphas[-1]))"
   ]
  },
  {
   "cell_type": "code",
   "execution_count": 56,
   "metadata": {},
   "outputs": [
    {
     "data": {
      "image/png": "[encoded data removed]",
      "text/plain": [
       "<Figure size 432x288 with 1 Axes>"
      ]
     },
     "metadata": {
      "needs_background": "light"
     },
     "output_type": "display_data"
    }
   ],
   "source": [
    "train_scores = [clf.score(reduce_featrue_train, y_train) for clf in clfs]\n",
    "test_scores = [clf.score(reduce_featrue_test, y_test) for clf in clfs]\n",
    "\n",
    "fig, ax = plt.subplots()\n",
    "ax.set_xlabel(\"alpha\")\n",
    "ax.set_ylabel(\"accuracy\")\n",
    "ax.set_title(\"Accuracy vs alpha for training and testing sets\")\n",
    "ax.plot(ccp_alphas, train_scores, marker='o', label=\"train\",\n",
    "        drawstyle=\"steps-post\")\n",
    "ax.plot(ccp_alphas, test_scores, marker='o', label=\"test\",\n",
    "        drawstyle=\"steps-post\")\n",
    "ax.legend()\n",
    "plt.show()"
   ]
  },
  {
   "cell_type": "code",
   "execution_count": 57,
   "metadata": {},
   "outputs": [],
   "source": [
    "clf_pruned = DecisionTreeClassifier(random_state = 42, ccp_alpha= 0.0020)\n",
    "clf_pruned = clf_pruned.fit(reduce_featrue_train, y_train)"
   ]
  },
  {
   "cell_type": "code",
   "execution_count": 58,
   "metadata": {},
   "outputs": [
    {
     "name": "stdout",
     "output_type": "stream",
     "text": [
      "              precision    recall  f1-score   support\n",
      "\n",
      "           0       0.94      1.00      0.97       571\n",
      "           1       1.00      0.15      0.26        46\n",
      "\n",
      "    accuracy                           0.94       617\n",
      "   macro avg       0.97      0.58      0.62       617\n",
      "weighted avg       0.94      0.94      0.91       617\n",
      "\n"
     ]
    },
    {
     "data": {
      "image/png": "[encoded data removed]",
      "text/plain": [
       "<Figure size 432x288 with 2 Axes>"
      ]
     },
     "metadata": {
      "needs_background": "light"
     },
     "output_type": "display_data"
    }
   ],
   "source": [
    "evaluate_model(clf_pruned,reduce_featrue_test, y_test)\n"
   ]
  },
  {
   "cell_type": "code",
   "execution_count": 59,
   "metadata": {},
   "outputs": [
    {
     "name": "stdout",
     "output_type": "stream",
     "text": [
      "              precision    recall  f1-score   support\n",
      "\n",
      "           0       0.94      1.00      0.97      2280\n",
      "           1       0.94      0.16      0.28       184\n",
      "\n",
      "    accuracy                           0.94      2464\n",
      "   macro avg       0.94      0.58      0.62      2464\n",
      "weighted avg       0.94      0.94      0.92      2464\n",
      "\n"
     ]
    },
    {
     "data": {
      "image/png": "[encoded data removed]",
      "text/plain": [
       "<Figure size 432x288 with 2 Axes>"
      ]
     },
     "metadata": {
      "needs_background": "light"
     },
     "output_type": "display_data"
    }
   ],
   "source": [
    "evaluate_model(clf_pruned,reduce_featrue_train, y_train)\n"
   ]
  },
  {
   "cell_type": "code",
   "execution_count": null,
   "metadata": {},
   "outputs": [],
   "source": []
  },
  {
   "cell_type": "code",
   "execution_count": null,
   "metadata": {},
   "outputs": [],
   "source": []
  },
  {
   "cell_type": "code",
   "execution_count": 60,
   "metadata": {},
   "outputs": [
    {
     "name": "stdout",
     "output_type": "stream",
     "text": [
      "Wall time: 0 ns\n"
     ]
    },
    {
     "data": {
      "text/plain": [
       "0.9995941558441559"
      ]
     },
     "execution_count": 60,
     "metadata": {},
     "output_type": "execute_result"
    }
   ],
   "source": [
    "\n",
    "#pipeline - decision tree\n",
    "tree_pipe = imbpipeline(steps=[\n",
    "    ('coltran', coltran),\n",
    "    ('smote', SMOTE()),\n",
    "    ('tree', DecisionTreeClassifier())\n",
    "])\n",
    "\n",
    "#decision tree baseline model\n",
    "%time\n",
    "tree_pipe.fit(X_train, y_train)\n",
    "tree_pipe.score(X_train, y_train)\n"
   ]
  },
  {
   "cell_type": "code",
   "execution_count": 61,
   "metadata": {},
   "outputs": [
    {
     "name": "stdout",
     "output_type": "stream",
     "text": [
      "              precision    recall  f1-score   support\n",
      "\n",
      "           0       0.96      0.94      0.95       571\n",
      "           1       0.39      0.48      0.43        46\n",
      "\n",
      "    accuracy                           0.91       617\n",
      "   macro avg       0.68      0.71      0.69       617\n",
      "weighted avg       0.92      0.91      0.91       617\n",
      "\n"
     ]
    },
    {
     "data": {
      "image/png": "[encoded data removed]",
      "text/plain": [
       "<Figure size 432x288 with 2 Axes>"
      ]
     },
     "metadata": {
      "needs_background": "light"
     },
     "output_type": "display_data"
    }
   ],
   "source": [
    "evaluate_model(tree_pipe, X_test, y_test)\n"
   ]
  },
  {
   "cell_type": "code",
   "execution_count": 63,
   "metadata": {},
   "outputs": [
    {
     "name": "stdout",
     "output_type": "stream",
     "text": [
      "Wall time: 0 ns\n"
     ]
    },
    {
     "data": {
      "text/plain": [
       "0.9995941558441559"
      ]
     },
     "execution_count": 63,
     "metadata": {},
     "output_type": "execute_result"
    }
   ],
   "source": [
    "from sklearn.ensemble import RandomForestClassifier, GradientBoostingClassifier\n",
    "#pipeline - random forest\n",
    "forest_pipe = imbpipeline(steps=[\n",
    "    ('coltran', coltran),\n",
    "    ('smote', SMOTE()),\n",
    "    ('forest', RandomForestClassifier())\n",
    "])\n",
    "\n",
    "#random forest baseline model\n",
    "%time\n",
    "forest_pipe.fit(X_train, y_train)\n",
    "forest_pipe.score(X_train, y_train)"
   ]
  },
  {
   "cell_type": "code",
   "execution_count": 64,
   "metadata": {},
   "outputs": [
    {
     "name": "stdout",
     "output_type": "stream",
     "text": [
      "              precision    recall  f1-score   support\n",
      "\n",
      "           0       0.96      0.97      0.96       571\n",
      "           1       0.55      0.50      0.52        46\n",
      "\n",
      "    accuracy                           0.93       617\n",
      "   macro avg       0.75      0.73      0.74       617\n",
      "weighted avg       0.93      0.93      0.93       617\n",
      "\n"
     ]
    },
    {
     "data": {
      "image/png": "[encoded data removed]",
      "text/plain": [
       "<Figure size 432x288 with 2 Axes>"
      ]
     },
     "metadata": {
      "needs_background": "light"
     },
     "output_type": "display_data"
    }
   ],
   "source": [
    "\n",
    "evaluate_model(forest_pipe, X_test, y_test)\n"
   ]
  },
  {
   "cell_type": "code",
   "execution_count": 66,
   "metadata": {},
   "outputs": [
    {
     "name": "stdout",
     "output_type": "stream",
     "text": [
      "Wall time: 0 ns\n"
     ]
    },
    {
     "data": {
      "text/plain": [
       "0.9995941558441559"
      ]
     },
     "execution_count": 66,
     "metadata": {},
     "output_type": "execute_result"
    }
   ],
   "source": [
    "#pipeline - xg boosting\n",
    "from xgboost import XGBClassifier\n",
    "xg_pipe = imbpipeline(steps=[\n",
    "    ('coltran', coltran),\n",
    "    ('smote', SMOTE()),\n",
    "    ('xg', XGBClassifier())\n",
    "])\n",
    "\n",
    "#xg boosting baseline model\n",
    "%time\n",
    "xg_pipe.fit(X_train, y_train)\n",
    "xg_pipe.score(X_train, y_train)"
   ]
  },
  {
   "cell_type": "code",
   "execution_count": 67,
   "metadata": {},
   "outputs": [
    {
     "name": "stdout",
     "output_type": "stream",
     "text": [
      "              precision    recall  f1-score   support\n",
      "\n",
      "           0       0.96      0.96      0.96       571\n",
      "           1       0.53      0.50      0.52        46\n",
      "\n",
      "    accuracy                           0.93       617\n",
      "   macro avg       0.75      0.73      0.74       617\n",
      "weighted avg       0.93      0.93      0.93       617\n",
      "\n"
     ]
    },
    {
     "data": {
      "image/png": "[encoded data removed]",
      "text/plain": [
       "<Figure size 432x288 with 2 Axes>"
      ]
     },
     "metadata": {
      "needs_background": "light"
     },
     "output_type": "display_data"
    }
   ],
   "source": [
    "evaluate_model(xg_pipe, X_test, y_test)\n"
   ]
  },
  {
   "cell_type": "code",
   "execution_count": 68,
   "metadata": {},
   "outputs": [
    {
     "name": "stdout",
     "output_type": "stream",
     "text": [
      "Wall time: 0 ns\n"
     ]
    },
    {
     "data": {
      "text/plain": [
       "0.9431818181818182"
      ]
     },
     "execution_count": 68,
     "metadata": {},
     "output_type": "execute_result"
    }
   ],
   "source": [
    "\n",
    "#pipeline - gradient boosting\n",
    "gb_pipe = imbpipeline(steps=[\n",
    "    ('coltran', coltran),\n",
    "    ('smote', SMOTE()),\n",
    "    ('gb', GradientBoostingClassifier())\n",
    "])\n",
    "\n",
    "#gradient boosting baseline model\n",
    "%time\n",
    "gb_pipe.fit(X_train, y_train)\n",
    "gb_pipe.score(X_train, y_train)"
   ]
  },
  {
   "cell_type": "code",
   "execution_count": 69,
   "metadata": {},
   "outputs": [
    {
     "name": "stdout",
     "output_type": "stream",
     "text": [
      "              precision    recall  f1-score   support\n",
      "\n",
      "           0       0.97      0.95      0.96       571\n",
      "           1       0.52      0.70      0.59        46\n",
      "\n",
      "    accuracy                           0.93       617\n",
      "   macro avg       0.75      0.82      0.78       617\n",
      "weighted avg       0.94      0.93      0.93       617\n",
      "\n"
     ]
    },
    {
     "data": {
      "image/png": "[encoded data removed]",
      "text/plain": [
       "<Figure size 432x288 with 2 Axes>"
      ]
     },
     "metadata": {
      "needs_background": "light"
     },
     "output_type": "display_data"
    }
   ],
   "source": [
    "evaluate_model(gb_pipe, X_test, y_test)\n"
   ]
  },
  {
   "cell_type": "code",
   "execution_count": 70,
   "metadata": {},
   "outputs": [
    {
     "name": "stdout",
     "output_type": "stream",
     "text": [
      "Wall time: 0 ns\n"
     ]
    },
    {
     "data": {
      "text/plain": [
       "{'forest__max_depth': 30,\n",
       " 'forest__min_samples_leaf': 1,\n",
       " 'forest__min_samples_split': 2}"
      ]
     },
     "execution_count": 70,
     "metadata": {},
     "output_type": "execute_result"
    }
   ],
   "source": [
    "\n",
    "#random forest grid 1\n",
    "forest_param_grid1 = {\n",
    "    'forest__max_depth': [20, 30],\n",
    "    'forest__min_samples_split': [2, 3, 5],\n",
    "    'forest__min_samples_leaf': [1, 2]\n",
    "}\n",
    "\n",
    "gs_forest1 = GridSearchCV(forest_pipe, forest_param_grid1, cv=2)\n",
    "\n",
    "%time\n",
    "gs_forest1.fit(X_train, y_train)\n",
    "\n",
    "gs_forest1.best_params_"
   ]
  },
  {
   "cell_type": "code",
   "execution_count": 71,
   "metadata": {},
   "outputs": [
    {
     "name": "stdout",
     "output_type": "stream",
     "text": [
      "              precision    recall  f1-score   support\n",
      "\n",
      "           0       1.00      1.00      1.00      2280\n",
      "           1       1.00      0.99      1.00       184\n",
      "\n",
      "    accuracy                           1.00      2464\n",
      "   macro avg       1.00      1.00      1.00      2464\n",
      "weighted avg       1.00      1.00      1.00      2464\n",
      "\n"
     ]
    },
    {
     "data": {
      "image/png": "[encoded data removed]",
      "text/plain": [
       "<Figure size 432x288 with 2 Axes>"
      ]
     },
     "metadata": {
      "needs_background": "light"
     },
     "output_type": "display_data"
    }
   ],
   "source": [
    "#classification report\n",
    "evaluate_model(gs_forest1.best_estimator_, X_train, y_train)"
   ]
  },
  {
   "cell_type": "code",
   "execution_count": 72,
   "metadata": {},
   "outputs": [
    {
     "name": "stdout",
     "output_type": "stream",
     "text": [
      "              precision    recall  f1-score   support\n",
      "\n",
      "           0       0.96      0.96      0.96       571\n",
      "           1       0.52      0.48      0.50        46\n",
      "\n",
      "    accuracy                           0.93       617\n",
      "   macro avg       0.74      0.72      0.73       617\n",
      "weighted avg       0.93      0.93      0.93       617\n",
      "\n"
     ]
    },
    {
     "data": {
      "image/png": "[encoded data removed]",
      "text/plain": [
       "<Figure size 432x288 with 2 Axes>"
      ]
     },
     "metadata": {
      "needs_background": "light"
     },
     "output_type": "display_data"
    }
   ],
   "source": [
    "evaluate_model(gs_forest1.best_estimator_, X_test, y_test)"
   ]
  },
  {
   "cell_type": "code",
   "execution_count": null,
   "metadata": {},
   "outputs": [],
   "source": []
  }
 ],
 "metadata": {
  "kernelspec": {
   "display_name": "Python 3",
   "language": "python",
   "name": "python3"
  },
  "language_info": {
   "codemirror_mode": {
    "name": "ipython",
    "version": 3
   },
   "file_extension": ".py",
   "mimetype": "text/x-python",
   "name": "python",
   "nbconvert_exporter": "python",
   "pygments_lexer": "ipython3",
   "version": "3.8.5"
  }
 },
 "nbformat": 4,
 "nbformat_minor": 4
}
