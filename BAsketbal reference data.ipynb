{
 "cells": [
  {
   "cell_type": "code",
   "execution_count": 5,
   "metadata": {
    "scrolled": true
   },
   "outputs": [
    {
     "name": "stdout",
     "output_type": "stream",
     "text": [
      "Requirement already satisfied: basketball-reference-scraper in c:\\users\\jassi\\appdata\\roaming\\python\\python38\\site-packages (1.0.29)\n",
      "Requirement already satisfied: beautifulsoup4==4.8.2 in c:\\users\\jassi\\anaconda3\\envs\\learn-env\\lib\\site-packages (from basketball-reference-scraper) (4.8.2)\n",
      "Requirement already satisfied: pandas==1.3.1 in c:\\users\\jassi\\anaconda3\\envs\\learn-env\\lib\\site-packages (from basketball-reference-scraper) (1.3.1)\n",
      "Requirement already satisfied: six==1.13.0 in c:\\users\\jassi\\anaconda3\\envs\\learn-env\\lib\\site-packages (from basketball-reference-scraper) (1.13.0)\n",
      "Requirement already satisfied: python-dateutil==2.8.1 in c:\\users\\jassi\\anaconda3\\envs\\learn-env\\lib\\site-packages (from basketball-reference-scraper) (2.8.1)\n",
      "Requirement already satisfied: requests==2.22.0 in c:\\users\\jassi\\anaconda3\\envs\\learn-env\\lib\\site-packages (from basketball-reference-scraper) (2.22.0)\n",
      "Requirement already satisfied: numpy==1.18.1 in c:\\users\\jassi\\anaconda3\\envs\\learn-env\\lib\\site-packages (from basketball-reference-scraper) (1.18.1)\n",
      "Requirement already satisfied: pytz==2019.3 in c:\\users\\jassi\\anaconda3\\envs\\learn-env\\lib\\site-packages (from basketball-reference-scraper) (2019.3)\n",
      "Requirement already satisfied: soupsieve==1.9.5 in c:\\users\\jassi\\anaconda3\\envs\\learn-env\\lib\\site-packages (from basketball-reference-scraper) (1.9.5)\n",
      "Requirement already satisfied: lxml==4.6.3 in c:\\users\\jassi\\anaconda3\\envs\\learn-env\\lib\\site-packages (from basketball-reference-scraper) (4.6.3)\n",
      "Requirement already satisfied: bs4==0.0.1 in c:\\users\\jassi\\anaconda3\\envs\\learn-env\\lib\\site-packages (from basketball-reference-scraper) (0.0.1)\n",
      "Requirement already satisfied: urllib3!=1.25.0,!=1.25.1,<1.26,>=1.21.1 in c:\\users\\jassi\\anaconda3\\envs\\learn-env\\lib\\site-packages (from requests==2.22.0->basketball-reference-scraper) (1.25.10)\n",
      "Requirement already satisfied: chardet<3.1.0,>=3.0.2 in c:\\users\\jassi\\anaconda3\\envs\\learn-env\\lib\\site-packages (from requests==2.22.0->basketball-reference-scraper) (3.0.4)\n",
      "Requirement already satisfied: idna<2.9,>=2.5 in c:\\users\\jassi\\anaconda3\\envs\\learn-env\\lib\\site-packages (from requests==2.22.0->basketball-reference-scraper) (2.8)\n",
      "Requirement already satisfied: certifi>=2017.4.17 in c:\\users\\jassi\\anaconda3\\envs\\learn-env\\lib\\site-packages (from requests==2.22.0->basketball-reference-scraper) (2020.6.20)\n"
     ]
    }
   ],
   "source": [
    "!pip install basketball-reference-scraper --user\n",
    "\n"
   ]
  },
  {
   "cell_type": "code",
   "execution_count": 2,
   "metadata": {
    "scrolled": true
   },
   "outputs": [
    {
     "name": "stdout",
     "output_type": "stream",
     "text": [
      "Requirement already satisfied: basketball-reference-scraper in c:\\users\\jassi\\appdata\\roaming\\python\\python38\\site-packages (1.0.29)\n",
      "Requirement already satisfied: pandas==1.3.1 in c:\\users\\jassi\\anaconda3\\envs\\learn-env\\lib\\site-packages (from basketball-reference-scraper) (1.3.1)\n",
      "Requirement already satisfied: pytz==2019.3 in c:\\users\\jassi\\anaconda3\\envs\\learn-env\\lib\\site-packages (from basketball-reference-scraper) (2019.3)\n",
      "Requirement already satisfied: six==1.13.0 in c:\\users\\jassi\\anaconda3\\envs\\learn-env\\lib\\site-packages (from basketball-reference-scraper) (1.13.0)\n",
      "Requirement already satisfied: beautifulsoup4==4.8.2 in c:\\users\\jassi\\anaconda3\\envs\\learn-env\\lib\\site-packages (from basketball-reference-scraper) (4.8.2)\n",
      "Requirement already satisfied: numpy==1.18.1 in c:\\users\\jassi\\anaconda3\\envs\\learn-env\\lib\\site-packages (from basketball-reference-scraper) (1.18.1)\n",
      "Requirement already satisfied: requests==2.22.0 in c:\\users\\jassi\\anaconda3\\envs\\learn-env\\lib\\site-packages (from basketball-reference-scraper) (2.22.0)\n",
      "Requirement already satisfied: bs4==0.0.1 in c:\\users\\jassi\\anaconda3\\envs\\learn-env\\lib\\site-packages (from basketball-reference-scraper) (0.0.1)\n",
      "Requirement already satisfied: python-dateutil==2.8.1 in c:\\users\\jassi\\anaconda3\\envs\\learn-env\\lib\\site-packages (from basketball-reference-scraper) (2.8.1)\n",
      "Requirement already satisfied: lxml==4.6.3 in c:\\users\\jassi\\anaconda3\\envs\\learn-env\\lib\\site-packages (from basketball-reference-scraper) (4.6.3)\n",
      "Requirement already satisfied: soupsieve==1.9.5 in c:\\users\\jassi\\anaconda3\\envs\\learn-env\\lib\\site-packages (from basketball-reference-scraper) (1.9.5)\n",
      "Requirement already satisfied: chardet<3.1.0,>=3.0.2 in c:\\users\\jassi\\anaconda3\\envs\\learn-env\\lib\\site-packages (from requests==2.22.0->basketball-reference-scraper) (3.0.4)\n",
      "Requirement already satisfied: certifi>=2017.4.17 in c:\\users\\jassi\\anaconda3\\envs\\learn-env\\lib\\site-packages (from requests==2.22.0->basketball-reference-scraper) (2020.6.20)\n",
      "Requirement already satisfied: urllib3!=1.25.0,!=1.25.1,<1.26,>=1.21.1 in c:\\users\\jassi\\anaconda3\\envs\\learn-env\\lib\\site-packages (from requests==2.22.0->basketball-reference-scraper) (1.25.10)\n",
      "Requirement already satisfied: idna<2.9,>=2.5 in c:\\users\\jassi\\anaconda3\\envs\\learn-env\\lib\\site-packages (from requests==2.22.0->basketball-reference-scraper) (2.8)\n",
      "Note: you may need to restart the kernel to use updated packages.\n"
     ]
    }
   ],
   "source": [
    "pip install basketball-reference-scraper"
   ]
  },
  {
   "cell_type": "code",
   "execution_count": 1,
   "metadata": {},
   "outputs": [
    {
     "name": "stdout",
     "output_type": "stream",
     "text": [
      "Requirement already satisfied: constants in c:\\users\\jassi\\anaconda3\\envs\\learn-env\\lib\\site-packages (0.6.0)\n",
      "Requirement already satisfied: unidecode in c:\\users\\jassi\\anaconda3\\envs\\learn-env\\lib\\site-packages (1.3.2)\n"
     ]
    }
   ],
   "source": [
    "!pip install constants\n",
    "!pip install unidecode"
   ]
  },
  {
   "cell_type": "code",
   "execution_count": 2,
   "metadata": {},
   "outputs": [],
   "source": [
    "from basketball_reference_scraper.players import get_stats"
   ]
  },
  {
   "cell_type": "code",
   "execution_count": 3,
   "metadata": {},
   "outputs": [],
   "source": [
    "with open('listplayers') as f:\n",
    "    experiments = f.read().splitlines()"
   ]
  },
  {
   "cell_type": "code",
   "execution_count": null,
   "metadata": {},
   "outputs": [],
   "source": [
    "dfs=[]\n",
    "for experiment in experiments:\n",
    "    try:\n",
    "        dfs.append(get_stats(experiment,ask_matches=False ).assign(Name=experiment))\n",
    "    except:\n",
    "        pass\n",
    "    "
   ]
  },
  {
   "cell_type": "code",
   "execution_count": null,
   "metadata": {},
   "outputs": [],
   "source": [
    "len(dfs)"
   ]
  },
  {
   "cell_type": "code",
   "execution_count": null,
   "metadata": {},
   "outputs": [],
   "source": []
  },
  {
   "cell_type": "code",
   "execution_count": null,
   "metadata": {},
   "outputs": [],
   "source": []
  },
  {
   "cell_type": "code",
   "execution_count": 5,
   "metadata": {},
   "outputs": [
    {
     "ename": "ModuleNotFoundError",
     "evalue": "No module named 'unidecode'",
     "output_type": "error",
     "traceback": [
      "\u001b[1;31m---------------------------------------------------------------------------\u001b[0m",
      "\u001b[1;31mModuleNotFoundError\u001b[0m                       Traceback (most recent call last)",
      "\u001b[1;32m~\\AppData\\Roaming\\Python\\Python38\\site-packages\\basketball_reference_scraper\\players.py\u001b[0m in \u001b[0;36m<module>\u001b[1;34m\u001b[0m\n\u001b[0;32m      5\u001b[0m \u001b[1;32mtry\u001b[0m\u001b[1;33m:\u001b[0m\u001b[1;33m\u001b[0m\u001b[1;33m\u001b[0m\u001b[0m\n\u001b[1;32m----> 6\u001b[1;33m     \u001b[1;32mfrom\u001b[0m \u001b[0mutils\u001b[0m \u001b[1;32mimport\u001b[0m \u001b[0mget_player_suffix\u001b[0m\u001b[1;33m\u001b[0m\u001b[1;33m\u001b[0m\u001b[0m\n\u001b[0m\u001b[0;32m      7\u001b[0m     \u001b[1;32mfrom\u001b[0m \u001b[0mlookup\u001b[0m \u001b[1;32mimport\u001b[0m \u001b[0mlookup\u001b[0m\u001b[1;33m\u001b[0m\u001b[1;33m\u001b[0m\u001b[0m\n",
      "\u001b[1;31mModuleNotFoundError\u001b[0m: No module named 'utils'",
      "\nDuring handling of the above exception, another exception occurred:\n",
      "\u001b[1;31mModuleNotFoundError\u001b[0m                       Traceback (most recent call last)",
      "\u001b[1;32m<ipython-input-5-c3743bc64788>\u001b[0m in \u001b[0;36m<module>\u001b[1;34m\u001b[0m\n\u001b[1;32m----> 1\u001b[1;33m \u001b[1;32mfrom\u001b[0m \u001b[0mbasketball_reference_scraper\u001b[0m\u001b[1;33m.\u001b[0m\u001b[0mplayers\u001b[0m \u001b[1;32mimport\u001b[0m \u001b[0mget_stats\u001b[0m\u001b[1;33m\u001b[0m\u001b[1;33m\u001b[0m\u001b[0m\n\u001b[0m",
      "\u001b[1;32m~\\AppData\\Roaming\\Python\\Python38\\site-packages\\basketball_reference_scraper\\players.py\u001b[0m in \u001b[0;36m<module>\u001b[1;34m\u001b[0m\n\u001b[0;32m      7\u001b[0m     \u001b[1;32mfrom\u001b[0m \u001b[0mlookup\u001b[0m \u001b[1;32mimport\u001b[0m \u001b[0mlookup\u001b[0m\u001b[1;33m\u001b[0m\u001b[1;33m\u001b[0m\u001b[0m\n\u001b[0;32m      8\u001b[0m \u001b[1;32mexcept\u001b[0m\u001b[1;33m:\u001b[0m\u001b[1;33m\u001b[0m\u001b[1;33m\u001b[0m\u001b[0m\n\u001b[1;32m----> 9\u001b[1;33m     \u001b[1;32mfrom\u001b[0m \u001b[0mbasketball_reference_scraper\u001b[0m\u001b[1;33m.\u001b[0m\u001b[0mutils\u001b[0m \u001b[1;32mimport\u001b[0m \u001b[0mget_player_suffix\u001b[0m\u001b[1;33m\u001b[0m\u001b[1;33m\u001b[0m\u001b[0m\n\u001b[0m\u001b[0;32m     10\u001b[0m     \u001b[1;32mfrom\u001b[0m \u001b[0mbasketball_reference_scraper\u001b[0m\u001b[1;33m.\u001b[0m\u001b[0mlookup\u001b[0m \u001b[1;32mimport\u001b[0m \u001b[0mlookup\u001b[0m\u001b[1;33m\u001b[0m\u001b[1;33m\u001b[0m\u001b[0m\n\u001b[0;32m     11\u001b[0m \u001b[1;33m\u001b[0m\u001b[0m\n",
      "\u001b[1;32m~\\AppData\\Roaming\\Python\\Python38\\site-packages\\basketball_reference_scraper\\utils.py\u001b[0m in \u001b[0;36m<module>\u001b[1;34m\u001b[0m\n\u001b[0;32m      2\u001b[0m \u001b[1;32mfrom\u001b[0m \u001b[0mbs4\u001b[0m \u001b[1;32mimport\u001b[0m \u001b[0mBeautifulSoup\u001b[0m\u001b[1;33m\u001b[0m\u001b[1;33m\u001b[0m\u001b[0m\n\u001b[0;32m      3\u001b[0m \u001b[1;32mimport\u001b[0m \u001b[0mpandas\u001b[0m \u001b[1;32mas\u001b[0m \u001b[0mpd\u001b[0m\u001b[1;33m\u001b[0m\u001b[1;33m\u001b[0m\u001b[0m\n\u001b[1;32m----> 4\u001b[1;33m \u001b[1;32mimport\u001b[0m \u001b[0municodedata\u001b[0m\u001b[1;33m,\u001b[0m \u001b[0munidecode\u001b[0m\u001b[1;33m\u001b[0m\u001b[1;33m\u001b[0m\u001b[0m\n\u001b[0m\u001b[0;32m      5\u001b[0m \u001b[1;33m\u001b[0m\u001b[0m\n\u001b[0;32m      6\u001b[0m \u001b[1;33m\u001b[0m\u001b[0m\n",
      "\u001b[1;31mModuleNotFoundError\u001b[0m: No module named 'unidecode'"
     ]
    }
   ],
   "source": [
    "from basketball_reference_scraper.players import get_stats"
   ]
  },
  {
   "cell_type": "code",
   "execution_count": null,
   "metadata": {},
   "outputs": [],
   "source": []
  }
 ],
 "metadata": {
  "kernelspec": {
   "display_name": "Python 3",
   "language": "python",
   "name": "python3"
  },
  "language_info": {
   "codemirror_mode": {
    "name": "ipython",
    "version": 3
   },
   "file_extension": ".py",
   "mimetype": "text/x-python",
   "name": "python",
   "nbconvert_exporter": "python",
   "pygments_lexer": "ipython3",
   "version": "3.8.5"
  }
 },
 "nbformat": 4,
 "nbformat_minor": 4
}
