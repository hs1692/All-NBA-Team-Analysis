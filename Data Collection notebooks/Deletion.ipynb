{
 "cells": [
  {
   "cell_type": "code",
   "execution_count": 1,
   "metadata": {},
   "outputs": [
    {
     "name": "stdout",
     "output_type": "stream",
     "text": [
      "Requirement already satisfied: constants in c:\\users\\jassi\\anaconda3\\envs\\learn-env\\lib\\site-packages (0.6.0)\n",
      "Requirement already satisfied: unidecode in c:\\users\\jassi\\anaconda3\\envs\\learn-env\\lib\\site-packages (1.3.2)\n"
     ]
    }
   ],
   "source": [
    "!pip install constants\n",
    "!pip install unidecode"
   ]
  },
  {
   "cell_type": "code",
   "execution_count": 4,
   "metadata": {},
   "outputs": [
    {
     "name": "stdout",
     "output_type": "stream",
     "text": [
      "Requirement already satisfied: basketball-reference-scraper in c:\\users\\jassi\\appdata\\roaming\\python\\python38\\site-packages (1.0.29)\n",
      "Requirement already satisfied: bs4==0.0.1 in c:\\users\\jassi\\anaconda3\\envs\\learn-env\\lib\\site-packages (from basketball-reference-scraper) (0.0.1)\n",
      "Requirement already satisfied: six==1.13.0 in c:\\users\\jassi\\anaconda3\\envs\\learn-env\\lib\\site-packages (from basketball-reference-scraper) (1.13.0)\n",
      "Requirement already satisfied: lxml==4.6.3 in c:\\users\\jassi\\anaconda3\\envs\\learn-env\\lib\\site-packages (from basketball-reference-scraper) (4.6.3)\n",
      "Requirement already satisfied: beautifulsoup4==4.8.2 in c:\\users\\jassi\\anaconda3\\envs\\learn-env\\lib\\site-packages (from basketball-reference-scraper) (4.8.2)\n",
      "Requirement already satisfied: pytz==2019.3 in c:\\users\\jassi\\anaconda3\\envs\\learn-env\\lib\\site-packages (from basketball-reference-scraper) (2019.3)\n",
      "Requirement already satisfied: numpy==1.18.1 in c:\\users\\jassi\\anaconda3\\envs\\learn-env\\lib\\site-packages (from basketball-reference-scraper) (1.18.1)\n",
      "Requirement already satisfied: requests==2.22.0 in c:\\users\\jassi\\anaconda3\\envs\\learn-env\\lib\\site-packages (from basketball-reference-scraper) (2.22.0)\n",
      "Requirement already satisfied: soupsieve==1.9.5 in c:\\users\\jassi\\anaconda3\\envs\\learn-env\\lib\\site-packages (from basketball-reference-scraper) (1.9.5)\n",
      "Requirement already satisfied: pandas==1.3.1 in c:\\users\\jassi\\anaconda3\\envs\\learn-env\\lib\\site-packages (from basketball-reference-scraper) (1.3.1)\n",
      "Requirement already satisfied: python-dateutil==2.8.1 in c:\\users\\jassi\\anaconda3\\envs\\learn-env\\lib\\site-packages (from basketball-reference-scraper) (2.8.1)\n",
      "Requirement already satisfied: urllib3!=1.25.0,!=1.25.1,<1.26,>=1.21.1 in c:\\users\\jassi\\anaconda3\\envs\\learn-env\\lib\\site-packages (from requests==2.22.0->basketball-reference-scraper) (1.25.10)\n",
      "Requirement already satisfied: idna<2.9,>=2.5 in c:\\users\\jassi\\anaconda3\\envs\\learn-env\\lib\\site-packages (from requests==2.22.0->basketball-reference-scraper) (2.8)\n",
      "Requirement already satisfied: chardet<3.1.0,>=3.0.2 in c:\\users\\jassi\\anaconda3\\envs\\learn-env\\lib\\site-packages (from requests==2.22.0->basketball-reference-scraper) (3.0.4)\n",
      "Requirement already satisfied: certifi>=2017.4.17 in c:\\users\\jassi\\anaconda3\\envs\\learn-env\\lib\\site-packages (from requests==2.22.0->basketball-reference-scraper) (2020.6.20)\n",
      "Note: you may need to restart the kernel to use updated packages.\n"
     ]
    }
   ],
   "source": [
    "pip install basketball-reference-scraper"
   ]
  },
  {
   "cell_type": "code",
   "execution_count": 5,
   "metadata": {},
   "outputs": [],
   "source": [
    "from basketball_reference_scraper.players import get_stats"
   ]
  },
  {
   "cell_type": "code",
   "execution_count": 7,
   "metadata": {},
   "outputs": [],
   "source": [
    "with open('listplayers') as f:\n",
    "    targets = f.read().splitlines()"
   ]
  },
  {
   "cell_type": "code",
   "execution_count": 9,
   "metadata": {},
   "outputs": [
    {
     "data": {
      "text/plain": [
       "4918"
      ]
     },
     "execution_count": 9,
     "metadata": {},
     "output_type": "execute_result"
    }
   ],
   "source": [
    "len(targets)"
   ]
  },
  {
   "cell_type": "code",
   "execution_count": null,
   "metadata": {},
   "outputs": [],
   "source": [
    "dfs=[]\n",
    "for target in targets:\n",
    "    try:\n",
    "        dfs.append(get_stats(target,stat_type='ADVANCED',ask_matches=False).assign(Name=target))\n",
    "    except:\n",
    "        pass\n",
    "    "
   ]
  },
  {
   "cell_type": "code",
   "execution_count": null,
   "metadata": {},
   "outputs": [],
   "source": [
    "len(dfs)"
   ]
  },
  {
   "cell_type": "code",
   "execution_count": null,
   "metadata": {},
   "outputs": [],
   "source": []
  },
  {
   "cell_type": "code",
   "execution_count": null,
   "metadata": {},
   "outputs": [],
   "source": []
  },
  {
   "cell_type": "code",
   "execution_count": null,
   "metadata": {},
   "outputs": [],
   "source": []
  }
 ],
 "metadata": {
  "kernelspec": {
   "display_name": "Python 3",
   "language": "python",
   "name": "python3"
  },
  "language_info": {
   "codemirror_mode": {
    "name": "ipython",
    "version": 3
   },
   "file_extension": ".py",
   "mimetype": "text/x-python",
   "name": "python",
   "nbconvert_exporter": "python",
   "pygments_lexer": "ipython3",
   "version": "3.8.5"
  }
 },
 "nbformat": 4,
 "nbformat_minor": 4
}
