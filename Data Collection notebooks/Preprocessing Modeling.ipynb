{
 "cells": [
  {
   "cell_type": "code",
   "execution_count": 116,
   "metadata": {
    "scrolled": true
   },
   "outputs": [],
   "source": [
    "import pandas as pd\n",
    "import numpy as np\n",
    "import matplotlib.pyplot as plt\n",
    "%matplotlib inline\n",
    "import seaborn as sns\n",
    "import pickle\n",
    "from sklearn.metrics import plot_confusion_matrix, classification_report\n",
    "from sklearn.model_selection import train_test_split, cross_val_score, GridSearchCV\n",
    "from sklearn.pipeline import Pipeline\n",
    "from sklearn.impute import SimpleImputer\n",
    "from sklearn.compose import ColumnTransformer\n",
    "from sklearn.preprocessing import OneHotEncoder, LabelEncoder, StandardScaler\n",
    "from sklearn.tree import DecisionTreeClassifier, plot_tree\n",
    "from imblearn.over_sampling import SMOTE\n",
    "from sklearn.feature_selection import RFECV, VarianceThreshold\n",
    "from sklearn.ensemble import GradientBoostingClassifier\n",
    "from sklearn.dummy import DummyClassifier\n",
    "from imblearn.pipeline import Pipeline as imbpipeline"
   ]
  },
  {
   "cell_type": "code",
   "execution_count": 117,
   "metadata": {},
   "outputs": [],
   "source": [
    "df=pd.read_pickle('data/cleaned_data')"
   ]
  },
  {
   "cell_type": "code",
   "execution_count": 123,
   "metadata": {
    "scrolled": true
   },
   "outputs": [
    {
     "name": "stdout",
     "output_type": "stream",
     "text": [
      "<class 'pandas.core.frame.DataFrame'>\n",
      "Int64Index: 3081 entries, 0 to 3080\n",
      "Data columns (total 32 columns):\n",
      " #   Column        Non-Null Count  Dtype  \n",
      "---  ------        --------------  -----  \n",
      " 0   SEASON        3081 non-null   object \n",
      " 1   AGE           3079 non-null   float64\n",
      " 2   TEAM          3081 non-null   object \n",
      " 3   LEAGUE        3081 non-null   object \n",
      " 4   POS           2919 non-null   object \n",
      " 5   G             2867 non-null   float64\n",
      " 6   GS            1865 non-null   float64\n",
      " 7   MP            2695 non-null   float64\n",
      " 8   FG            2866 non-null   float64\n",
      " 9   FGA           2865 non-null   float64\n",
      " 10  FG%           2851 non-null   float64\n",
      " 11  3P            2139 non-null   float64\n",
      " 12  3PA           2139 non-null   float64\n",
      " 13  3P%           3081 non-null   float64\n",
      " 14  2P            2336 non-null   float64\n",
      " 15  2PA           2336 non-null   float64\n",
      " 16  2P%           2316 non-null   float64\n",
      " 17  eFG%          2323 non-null   float64\n",
      " 18  FT            2866 non-null   float64\n",
      " 19  FTA           2866 non-null   float64\n",
      " 20  FT%           2743 non-null   float64\n",
      " 21  ORB           2307 non-null   float64\n",
      " 22  DRB           2305 non-null   float64\n",
      " 23  TRB           2723 non-null   float64\n",
      " 24  AST           2865 non-null   float64\n",
      " 25  STL           2174 non-null   float64\n",
      " 26  BLK           2175 non-null   float64\n",
      " 27  TOV           2212 non-null   float64\n",
      " 28  PF            2866 non-null   float64\n",
      " 29  PTS           2866 non-null   float64\n",
      " 30  SEASON_COUNT  3081 non-null   int64  \n",
      " 31  target        3081 non-null   int32  \n",
      "dtypes: float64(26), int32(1), int64(1), object(4)\n",
      "memory usage: 782.3+ KB\n"
     ]
    }
   ],
   "source": [
    "df.info()"
   ]
  },
  {
   "cell_type": "code",
   "execution_count": 119,
   "metadata": {},
   "outputs": [],
   "source": [
    "def missing(row): \n",
    "    if (row['3P%']==0):\n",
    "        return 1\n",
    "    else:\n",
    "        return 0"
   ]
  },
  {
   "cell_type": "code",
   "execution_count": 53,
   "metadata": {},
   "outputs": [],
   "source": [
    "df['missing']= df.apply(lambda row : missing(row), axis=1)"
   ]
  },
  {
   "cell_type": "code",
   "execution_count": 54,
   "metadata": {},
   "outputs": [],
   "source": [
    "X=df.drop('target',axis=1)\n",
    "y=df['target']"
   ]
  },
  {
   "cell_type": "code",
   "execution_count": 55,
   "metadata": {},
   "outputs": [],
   "source": [
    "X_train,X_test,y_train,y_test = train_test_split(X,y, test_size=0.2,random_state=42, stratify=y)"
   ]
  },
  {
   "cell_type": "code",
   "execution_count": 56,
   "metadata": {},
   "outputs": [],
   "source": [
    "cat_columns= [col for col in X.columns if X[col].dtype in ['object']]\n",
    "num_columns = [col for col in X.columns if X[col].dtypes in ['float64', 'int64']]\n"
   ]
  },
  {
   "cell_type": "code",
   "execution_count": 57,
   "metadata": {},
   "outputs": [],
   "source": [
    "zero_pipe=Pipeline(steps= [('imputer1',SimpleImputer(strategy='median')),\n",
    "    ('ss', StandardScaler())\n",
    "])"
   ]
  },
  {
   "cell_type": "code",
   "execution_count": 58,
   "metadata": {},
   "outputs": [],
   "source": [
    "cat_pipe=Pipeline(steps= [('imputer',SimpleImputer(strategy='constant',fill_value='missing')),\n",
    "    ('ohe', OneHotEncoder(sparse=False, handle_unknown='ignore'))\n",
    "])"
   ]
  },
  {
   "cell_type": "code",
   "execution_count": 59,
   "metadata": {},
   "outputs": [],
   "source": [
    "coltran= ColumnTransformer(transformers=[\n",
    "    ('zero', zero_pipe , num_columns), \n",
    "    ('cat_pipe', cat_pipe, cat_columns)\n",
    "],remainder= 'passthrough')\n"
   ]
  },
  {
   "cell_type": "code",
   "execution_count": 60,
   "metadata": {},
   "outputs": [],
   "source": [
    "#preparing cleaned daatset for alll post modelin without cross val"
   ]
  },
  {
   "cell_type": "code",
   "execution_count": 61,
   "metadata": {},
   "outputs": [
    {
     "data": {
      "text/plain": [
       "ColumnTransformer(remainder='passthrough',\n",
       "                  transformers=[('zero',\n",
       "                                 Pipeline(steps=[('imputer1',\n",
       "                                                  SimpleImputer(strategy='median')),\n",
       "                                                 ('ss', StandardScaler())]),\n",
       "                                 ['AGE', 'G', 'GS', 'MP', 'FG', 'FGA', 'FG%',\n",
       "                                  '3P', '3PA', '3P%', '2P', '2PA', '2P%',\n",
       "                                  'eFG%', 'FT', 'FTA', 'FT%', 'ORB', 'DRB',\n",
       "                                  'TRB', 'AST', 'STL', 'BLK', 'TOV', 'PF',\n",
       "                                  'PTS', 'SEASON_COUNT', 'missing']),\n",
       "                                ('cat_pipe',\n",
       "                                 Pipeline(steps=[('imputer',\n",
       "                                                  SimpleImputer(fill_value='missing',\n",
       "                                                                strategy='constant')),\n",
       "                                                 ('ohe',\n",
       "                                                  OneHotEncoder(handle_unknown='ignore',\n",
       "                                                                sparse=False))]),\n",
       "                                 ['SEASON', 'TEAM', 'LEAGUE', 'POS'])])"
      ]
     },
     "execution_count": 61,
     "metadata": {},
     "output_type": "execute_result"
    }
   ],
   "source": [
    "coltran.fit(X_train)"
   ]
  },
  {
   "cell_type": "code",
   "execution_count": 62,
   "metadata": {},
   "outputs": [],
   "source": [
    "X_cleaned_train= coltran.transform(X_train)"
   ]
  },
  {
   "cell_type": "code",
   "execution_count": 63,
   "metadata": {},
   "outputs": [],
   "source": [
    "X_cleaned_test = coltran.transform(X_test)"
   ]
  },
  {
   "cell_type": "code",
   "execution_count": 64,
   "metadata": {},
   "outputs": [],
   "source": [
    "#the order of the column name has to match the order of the column transformer\n",
    "cat_columns = coltran.named_transformers_['cat_pipe']['ohe'].get_feature_names(cat_columns).tolist()\n",
    "all_columns = num_columns + cat_columns \n",
    "\n",
    "cleaned_df_train = pd.DataFrame(X_cleaned_train, columns=all_columns)\n",
    "cleaned_df_test = pd.DataFrame(X_cleaned_test, columns=all_columns)"
   ]
  },
  {
   "cell_type": "code",
   "execution_count": 65,
   "metadata": {},
   "outputs": [
    {
     "data": {
      "text/html": [
       "<div>\n",
       "<style scoped>\n",
       "    .dataframe tbody tr th:only-of-type {\n",
       "        vertical-align: middle;\n",
       "    }\n",
       "\n",
       "    .dataframe tbody tr th {\n",
       "        vertical-align: top;\n",
       "    }\n",
       "\n",
       "    .dataframe thead th {\n",
       "        text-align: right;\n",
       "    }\n",
       "</style>\n",
       "<table border=\"1\" class=\"dataframe\">\n",
       "  <thead>\n",
       "    <tr style=\"text-align: right;\">\n",
       "      <th></th>\n",
       "      <th>AGE</th>\n",
       "      <th>G</th>\n",
       "      <th>GS</th>\n",
       "      <th>MP</th>\n",
       "      <th>FG</th>\n",
       "      <th>FGA</th>\n",
       "      <th>FG%</th>\n",
       "      <th>3P</th>\n",
       "      <th>3PA</th>\n",
       "      <th>3P%</th>\n",
       "      <th>...</th>\n",
       "      <th>DRB</th>\n",
       "      <th>TRB</th>\n",
       "      <th>AST</th>\n",
       "      <th>STL</th>\n",
       "      <th>BLK</th>\n",
       "      <th>TOV</th>\n",
       "      <th>PF</th>\n",
       "      <th>PTS</th>\n",
       "      <th>SEASON_COUNT</th>\n",
       "      <th>missing</th>\n",
       "    </tr>\n",
       "  </thead>\n",
       "  <tbody>\n",
       "    <tr>\n",
       "      <th>count</th>\n",
       "      <td>2.464000e+03</td>\n",
       "      <td>2.464000e+03</td>\n",
       "      <td>2.464000e+03</td>\n",
       "      <td>2.464000e+03</td>\n",
       "      <td>2.464000e+03</td>\n",
       "      <td>2.464000e+03</td>\n",
       "      <td>2.464000e+03</td>\n",
       "      <td>2.464000e+03</td>\n",
       "      <td>2.464000e+03</td>\n",
       "      <td>2.464000e+03</td>\n",
       "      <td>...</td>\n",
       "      <td>2.464000e+03</td>\n",
       "      <td>2.464000e+03</td>\n",
       "      <td>2.464000e+03</td>\n",
       "      <td>2.464000e+03</td>\n",
       "      <td>2.464000e+03</td>\n",
       "      <td>2.464000e+03</td>\n",
       "      <td>2.464000e+03</td>\n",
       "      <td>2.464000e+03</td>\n",
       "      <td>2464.0</td>\n",
       "      <td>2.464000e+03</td>\n",
       "    </tr>\n",
       "    <tr>\n",
       "      <th>mean</th>\n",
       "      <td>-5.736978e-17</td>\n",
       "      <td>5.046468e-17</td>\n",
       "      <td>-5.528586e-17</td>\n",
       "      <td>7.682347e-17</td>\n",
       "      <td>-9.439599e-18</td>\n",
       "      <td>1.910449e-17</td>\n",
       "      <td>7.069111e-16</td>\n",
       "      <td>1.258012e-16</td>\n",
       "      <td>1.714898e-16</td>\n",
       "      <td>-3.561365e-16</td>\n",
       "      <td>...</td>\n",
       "      <td>-1.387328e-16</td>\n",
       "      <td>-1.637849e-16</td>\n",
       "      <td>-1.007491e-16</td>\n",
       "      <td>-3.054916e-17</td>\n",
       "      <td>-6.778939e-17</td>\n",
       "      <td>1.974431e-16</td>\n",
       "      <td>-3.936921e-18</td>\n",
       "      <td>1.065841e-16</td>\n",
       "      <td>0.0</td>\n",
       "      <td>-1.580626e-16</td>\n",
       "    </tr>\n",
       "    <tr>\n",
       "      <th>std</th>\n",
       "      <td>1.000203e+00</td>\n",
       "      <td>1.000203e+00</td>\n",
       "      <td>1.000203e+00</td>\n",
       "      <td>1.000203e+00</td>\n",
       "      <td>1.000203e+00</td>\n",
       "      <td>1.000203e+00</td>\n",
       "      <td>1.000203e+00</td>\n",
       "      <td>1.000203e+00</td>\n",
       "      <td>1.000203e+00</td>\n",
       "      <td>1.000203e+00</td>\n",
       "      <td>...</td>\n",
       "      <td>1.000203e+00</td>\n",
       "      <td>1.000203e+00</td>\n",
       "      <td>1.000203e+00</td>\n",
       "      <td>1.000203e+00</td>\n",
       "      <td>1.000203e+00</td>\n",
       "      <td>1.000203e+00</td>\n",
       "      <td>1.000203e+00</td>\n",
       "      <td>1.000203e+00</td>\n",
       "      <td>0.0</td>\n",
       "      <td>1.000203e+00</td>\n",
       "    </tr>\n",
       "    <tr>\n",
       "      <th>min</th>\n",
       "      <td>-3.917032e+00</td>\n",
       "      <td>-1.877664e+00</td>\n",
       "      <td>-6.840750e-01</td>\n",
       "      <td>-2.072285e+00</td>\n",
       "      <td>-1.410857e+00</td>\n",
       "      <td>-1.531462e+00</td>\n",
       "      <td>-4.237336e+00</td>\n",
       "      <td>-5.952722e-01</td>\n",
       "      <td>-6.619943e-01</td>\n",
       "      <td>-7.579977e-01</td>\n",
       "      <td>...</td>\n",
       "      <td>-1.489566e+00</td>\n",
       "      <td>-1.336365e+00</td>\n",
       "      <td>-1.072487e+00</td>\n",
       "      <td>-1.550149e+00</td>\n",
       "      <td>-8.532358e-01</td>\n",
       "      <td>-1.680478e+00</td>\n",
       "      <td>-2.234829e+00</td>\n",
       "      <td>-1.410434e+00</td>\n",
       "      <td>0.0</td>\n",
       "      <td>-1.152789e+00</td>\n",
       "    </tr>\n",
       "    <tr>\n",
       "      <th>25%</th>\n",
       "      <td>-6.892631e-01</td>\n",
       "      <td>-8.606296e-01</td>\n",
       "      <td>-5.566641e-01</td>\n",
       "      <td>-7.581134e-01</td>\n",
       "      <td>-7.469581e-01</td>\n",
       "      <td>-7.501724e-01</td>\n",
       "      <td>-3.420862e-01</td>\n",
       "      <td>-5.952722e-01</td>\n",
       "      <td>-5.803795e-01</td>\n",
       "      <td>-7.579977e-01</td>\n",
       "      <td>...</td>\n",
       "      <td>-6.172155e-01</td>\n",
       "      <td>-6.309583e-01</td>\n",
       "      <td>-6.519382e-01</td>\n",
       "      <td>-6.067549e-01</td>\n",
       "      <td>-6.341930e-01</td>\n",
       "      <td>-5.935025e-01</td>\n",
       "      <td>-7.341835e-01</td>\n",
       "      <td>-7.317489e-01</td>\n",
       "      <td>0.0</td>\n",
       "      <td>-1.152789e+00</td>\n",
       "    </tr>\n",
       "    <tr>\n",
       "      <th>50%</th>\n",
       "      <td>-1.513017e-01</td>\n",
       "      <td>2.694082e-01</td>\n",
       "      <td>-4.292533e-01</td>\n",
       "      <td>-8.049398e-02</td>\n",
       "      <td>-2.158390e-01</td>\n",
       "      <td>-2.011583e-01</td>\n",
       "      <td>9.402321e-02</td>\n",
       "      <td>-3.745755e-01</td>\n",
       "      <td>-4.171498e-01</td>\n",
       "      <td>-7.579977e-01</td>\n",
       "      <td>...</td>\n",
       "      <td>-1.810401e-01</td>\n",
       "      <td>-2.429846e-01</td>\n",
       "      <td>-2.914679e-01</td>\n",
       "      <td>-1.350578e-01</td>\n",
       "      <td>-1.961073e-01</td>\n",
       "      <td>-1.858866e-01</td>\n",
       "      <td>1.613925e-02</td>\n",
       "      <td>-2.227349e-01</td>\n",
       "      <td>0.0</td>\n",
       "      <td>8.674614e-01</td>\n",
       "    </tr>\n",
       "    <tr>\n",
       "      <th>75%</th>\n",
       "      <td>3.866598e-01</td>\n",
       "      <td>9.097630e-01</td>\n",
       "      <td>-7.887339e-02</td>\n",
       "      <td>7.613969e-01</td>\n",
       "      <td>5.365797e-01</td>\n",
       "      <td>5.590150e-01</td>\n",
       "      <td>4.904863e-01</td>\n",
       "      <td>6.681810e-02</td>\n",
       "      <td>1.541540e-01</td>\n",
       "      <td>9.246107e-01</td>\n",
       "      <td>...</td>\n",
       "      <td>2.551353e-01</td>\n",
       "      <td>3.566112e-01</td>\n",
       "      <td>3.693943e-01</td>\n",
       "      <td>3.366393e-01</td>\n",
       "      <td>2.293549e-02</td>\n",
       "      <td>3.576014e-01</td>\n",
       "      <td>6.592731e-01</td>\n",
       "      <td>5.407860e-01</td>\n",
       "      <td>0.0</td>\n",
       "      <td>8.674614e-01</td>\n",
       "    </tr>\n",
       "    <tr>\n",
       "      <th>max</th>\n",
       "      <td>5.766274e+00</td>\n",
       "      <td>1.361778e+00</td>\n",
       "      <td>2.798489e+00</td>\n",
       "      <td>2.907192e+00</td>\n",
       "      <td>7.441128e+00</td>\n",
       "      <td>6.809329e+00</td>\n",
       "      <td>5.674241e+00</td>\n",
       "      <td>6.687721e+00</td>\n",
       "      <td>6.438496e+00</td>\n",
       "      <td>4.740722e+00</td>\n",
       "      <td>...</td>\n",
       "      <td>6.361591e+00</td>\n",
       "      <td>7.728111e+00</td>\n",
       "      <td>5.896606e+00</td>\n",
       "      <td>5.997005e+00</td>\n",
       "      <td>1.141316e+01</td>\n",
       "      <td>4.977249e+00</td>\n",
       "      <td>2.910241e+00</td>\n",
       "      <td>7.141000e+00</td>\n",
       "      <td>0.0</td>\n",
       "      <td>8.674614e-01</td>\n",
       "    </tr>\n",
       "  </tbody>\n",
       "</table>\n",
       "<p>8 rows × 28 columns</p>\n",
       "</div>"
      ],
      "text/plain": [
       "                AGE             G            GS            MP            FG  \\\n",
       "count  2.464000e+03  2.464000e+03  2.464000e+03  2.464000e+03  2.464000e+03   \n",
       "mean  -5.736978e-17  5.046468e-17 -5.528586e-17  7.682347e-17 -9.439599e-18   \n",
       "std    1.000203e+00  1.000203e+00  1.000203e+00  1.000203e+00  1.000203e+00   \n",
       "min   -3.917032e+00 -1.877664e+00 -6.840750e-01 -2.072285e+00 -1.410857e+00   \n",
       "25%   -6.892631e-01 -8.606296e-01 -5.566641e-01 -7.581134e-01 -7.469581e-01   \n",
       "50%   -1.513017e-01  2.694082e-01 -4.292533e-01 -8.049398e-02 -2.158390e-01   \n",
       "75%    3.866598e-01  9.097630e-01 -7.887339e-02  7.613969e-01  5.365797e-01   \n",
       "max    5.766274e+00  1.361778e+00  2.798489e+00  2.907192e+00  7.441128e+00   \n",
       "\n",
       "                FGA           FG%            3P           3PA           3P%  \\\n",
       "count  2.464000e+03  2.464000e+03  2.464000e+03  2.464000e+03  2.464000e+03   \n",
       "mean   1.910449e-17  7.069111e-16  1.258012e-16  1.714898e-16 -3.561365e-16   \n",
       "std    1.000203e+00  1.000203e+00  1.000203e+00  1.000203e+00  1.000203e+00   \n",
       "min   -1.531462e+00 -4.237336e+00 -5.952722e-01 -6.619943e-01 -7.579977e-01   \n",
       "25%   -7.501724e-01 -3.420862e-01 -5.952722e-01 -5.803795e-01 -7.579977e-01   \n",
       "50%   -2.011583e-01  9.402321e-02 -3.745755e-01 -4.171498e-01 -7.579977e-01   \n",
       "75%    5.590150e-01  4.904863e-01  6.681810e-02  1.541540e-01  9.246107e-01   \n",
       "max    6.809329e+00  5.674241e+00  6.687721e+00  6.438496e+00  4.740722e+00   \n",
       "\n",
       "       ...           DRB           TRB           AST           STL  \\\n",
       "count  ...  2.464000e+03  2.464000e+03  2.464000e+03  2.464000e+03   \n",
       "mean   ... -1.387328e-16 -1.637849e-16 -1.007491e-16 -3.054916e-17   \n",
       "std    ...  1.000203e+00  1.000203e+00  1.000203e+00  1.000203e+00   \n",
       "min    ... -1.489566e+00 -1.336365e+00 -1.072487e+00 -1.550149e+00   \n",
       "25%    ... -6.172155e-01 -6.309583e-01 -6.519382e-01 -6.067549e-01   \n",
       "50%    ... -1.810401e-01 -2.429846e-01 -2.914679e-01 -1.350578e-01   \n",
       "75%    ...  2.551353e-01  3.566112e-01  3.693943e-01  3.366393e-01   \n",
       "max    ...  6.361591e+00  7.728111e+00  5.896606e+00  5.997005e+00   \n",
       "\n",
       "                BLK           TOV            PF           PTS  SEASON_COUNT  \\\n",
       "count  2.464000e+03  2.464000e+03  2.464000e+03  2.464000e+03        2464.0   \n",
       "mean  -6.778939e-17  1.974431e-16 -3.936921e-18  1.065841e-16           0.0   \n",
       "std    1.000203e+00  1.000203e+00  1.000203e+00  1.000203e+00           0.0   \n",
       "min   -8.532358e-01 -1.680478e+00 -2.234829e+00 -1.410434e+00           0.0   \n",
       "25%   -6.341930e-01 -5.935025e-01 -7.341835e-01 -7.317489e-01           0.0   \n",
       "50%   -1.961073e-01 -1.858866e-01  1.613925e-02 -2.227349e-01           0.0   \n",
       "75%    2.293549e-02  3.576014e-01  6.592731e-01  5.407860e-01           0.0   \n",
       "max    1.141316e+01  4.977249e+00  2.910241e+00  7.141000e+00           0.0   \n",
       "\n",
       "            missing  \n",
       "count  2.464000e+03  \n",
       "mean  -1.580626e-16  \n",
       "std    1.000203e+00  \n",
       "min   -1.152789e+00  \n",
       "25%   -1.152789e+00  \n",
       "50%    8.674614e-01  \n",
       "75%    8.674614e-01  \n",
       "max    8.674614e-01  \n",
       "\n",
       "[8 rows x 28 columns]"
      ]
     },
     "execution_count": 65,
     "metadata": {},
     "output_type": "execute_result"
    }
   ],
   "source": [
    "cleaned_df_train[num_columns].describe()"
   ]
  },
  {
   "cell_type": "code",
   "execution_count": 66,
   "metadata": {},
   "outputs": [],
   "source": [
    "#with open('cleaned_df_test.pkl', \"wb\") as f:\n",
    "    #pickle.dump(cleaned_df_test , f)\n",
    "    \n",
    "#with open('cleaned_df_train.pkl', \"wb\") as f1:\n",
    "    #pickle.dump(cleaned_df_train, f1)\n",
    "\n",
    "#with open('y_train.pkl', \"wb\") as f3:\n",
    "    #pickle.dump(y_train, f3)\n",
    "\n",
    "#with open('y_test.pkl', \"wb\") as f4:\n",
    "    #pickle.dump(y_test, f4)"
   ]
  },
  {
   "cell_type": "code",
   "execution_count": 67,
   "metadata": {
    "scrolled": true
   },
   "outputs": [
    {
     "data": {
      "text/plain": [
       "0.9253246753246753"
      ]
     },
     "execution_count": 67,
     "metadata": {},
     "output_type": "execute_result"
    }
   ],
   "source": [
    "dummy_clf = DummyClassifier(strategy=\"most_frequent\")\n",
    "dummy_clf.fit(cleaned_df_train, y_train)\n",
    "dummy_clf.score(cleaned_df_train, y_train)"
   ]
  },
  {
   "cell_type": "code",
   "execution_count": null,
   "metadata": {},
   "outputs": [],
   "source": []
  },
  {
   "cell_type": "code",
   "execution_count": 68,
   "metadata": {},
   "outputs": [],
   "source": [
    "def evaluate_model(model, X, y):\n",
    "    y_pred = model.predict(X)\n",
    "    print(classification_report(y, y_pred))\n",
    "    plot_confusion_matrix(model, X, y,cmap=\"Blues\")"
   ]
  },
  {
   "cell_type": "code",
   "execution_count": 69,
   "metadata": {},
   "outputs": [],
   "source": [
    "dt_pipe= Pipeline(steps= [('col', coltran), ('dt',DecisionTreeClassifier())])"
   ]
  },
  {
   "cell_type": "code",
   "execution_count": 70,
   "metadata": {},
   "outputs": [
    {
     "data": {
      "text/plain": [
       "Pipeline(steps=[('col',\n",
       "                 ColumnTransformer(remainder='passthrough',\n",
       "                                   transformers=[('zero',\n",
       "                                                  Pipeline(steps=[('imputer1',\n",
       "                                                                   SimpleImputer(strategy='median')),\n",
       "                                                                  ('ss',\n",
       "                                                                   StandardScaler())]),\n",
       "                                                  ['AGE', 'G', 'GS', 'MP', 'FG',\n",
       "                                                   'FGA', 'FG%', '3P', '3PA',\n",
       "                                                   '3P%', '2P', '2PA', '2P%',\n",
       "                                                   'eFG%', 'FT', 'FTA', 'FT%',\n",
       "                                                   'ORB', 'DRB', 'TRB', 'AST',\n",
       "                                                   'STL', 'BLK', 'TOV', 'PF',\n",
       "                                                   'PTS', 'SEASON_COUNT',\n",
       "                                                   'missing']),\n",
       "                                                 ('cat_pipe',\n",
       "                                                  Pipeline(steps=[('imputer',\n",
       "                                                                   SimpleImputer(fill_value='missing',\n",
       "                                                                                 strategy='constant')),\n",
       "                                                                  ('ohe',\n",
       "                                                                   OneHotEncoder(handle_unknown='ignore',\n",
       "                                                                                 sparse=False))]),\n",
       "                                                  ['SEASON', 'TEAM', 'LEAGUE',\n",
       "                                                   'POS'])])),\n",
       "                ('dt', DecisionTreeClassifier())])"
      ]
     },
     "execution_count": 70,
     "metadata": {},
     "output_type": "execute_result"
    }
   ],
   "source": [
    "dt_pipe.fit(X_train, y_train)\n"
   ]
  },
  {
   "cell_type": "code",
   "execution_count": 71,
   "metadata": {},
   "outputs": [],
   "source": [
    "score= cross_val_score(dt_pipe, X_train, y_train)"
   ]
  },
  {
   "cell_type": "code",
   "execution_count": 72,
   "metadata": {},
   "outputs": [
    {
     "data": {
      "text/plain": [
       "0.9078752947772883"
      ]
     },
     "execution_count": 72,
     "metadata": {},
     "output_type": "execute_result"
    }
   ],
   "source": [
    "score.mean()"
   ]
  },
  {
   "cell_type": "code",
   "execution_count": 73,
   "metadata": {},
   "outputs": [
    {
     "data": {
      "text/plain": [
       "0.9141004862236629"
      ]
     },
     "execution_count": 73,
     "metadata": {},
     "output_type": "execute_result"
    }
   ],
   "source": [
    "dt_pipe.score(X_test, y_test)\n"
   ]
  },
  {
   "cell_type": "code",
   "execution_count": 74,
   "metadata": {},
   "outputs": [
    {
     "name": "stdout",
     "output_type": "stream",
     "text": [
      "              precision    recall  f1-score   support\n",
      "\n",
      "           0       1.00      1.00      1.00      2280\n",
      "           1       1.00      0.99      1.00       184\n",
      "\n",
      "    accuracy                           1.00      2464\n",
      "   macro avg       1.00      1.00      1.00      2464\n",
      "weighted avg       1.00      1.00      1.00      2464\n",
      "\n"
     ]
    },
    {
     "data": {
      "image/png": "[encoded data removed]",
      "text/plain": [
       "<Figure size 432x288 with 2 Axes>"
      ]
     },
     "metadata": {
      "needs_background": "light"
     },
     "output_type": "display_data"
    }
   ],
   "source": [
    "\n",
    "evaluate_model(dt_pipe, X_train, y_train)"
   ]
  },
  {
   "cell_type": "code",
   "execution_count": 75,
   "metadata": {},
   "outputs": [
    {
     "name": "stdout",
     "output_type": "stream",
     "text": [
      "              precision    recall  f1-score   support\n",
      "\n",
      "           0       0.95      0.96      0.95       571\n",
      "           1       0.41      0.37      0.39        46\n",
      "\n",
      "    accuracy                           0.91       617\n",
      "   macro avg       0.68      0.66      0.67       617\n",
      "weighted avg       0.91      0.91      0.91       617\n",
      "\n"
     ]
    },
    {
     "data": {
      "image/png": "[encoded data removed]",
      "text/plain": [
       "<Figure size 432x288 with 2 Axes>"
      ]
     },
     "metadata": {
      "needs_background": "light"
     },
     "output_type": "display_data"
    }
   ],
   "source": [
    "evaluate_model(dt_pipe, X_test, y_test)\n"
   ]
  },
  {
   "cell_type": "code",
   "execution_count": null,
   "metadata": {},
   "outputs": [],
   "source": []
  },
  {
   "cell_type": "code",
   "execution_count": 76,
   "metadata": {},
   "outputs": [],
   "source": [
    "#SMOTE PLUS DECISION TREE MODEL"
   ]
  },
  {
   "cell_type": "code",
   "execution_count": 77,
   "metadata": {},
   "outputs": [],
   "source": [
    "pipe_model = imbpipeline(steps=[\n",
    "    ('col', coltran),\n",
    "    ('smote', SMOTE()),\n",
    "    ('dt', DecisionTreeClassifier())\n",
    "])"
   ]
  },
  {
   "cell_type": "code",
   "execution_count": 78,
   "metadata": {},
   "outputs": [
    {
     "data": {
      "text/plain": [
       "Pipeline(steps=[('col',\n",
       "                 ColumnTransformer(remainder='passthrough',\n",
       "                                   transformers=[('zero',\n",
       "                                                  Pipeline(steps=[('imputer1',\n",
       "                                                                   SimpleImputer(strategy='median')),\n",
       "                                                                  ('ss',\n",
       "                                                                   StandardScaler())]),\n",
       "                                                  ['AGE', 'G', 'GS', 'MP', 'FG',\n",
       "                                                   'FGA', 'FG%', '3P', '3PA',\n",
       "                                                   '3P%', '2P', '2PA', '2P%',\n",
       "                                                   'eFG%', 'FT', 'FTA', 'FT%',\n",
       "                                                   'ORB', 'DRB', 'TRB', 'AST',\n",
       "                                                   'STL', 'BLK', 'TOV', 'PF',\n",
       "                                                   'PTS', 'SEASON_COUNT',\n",
       "                                                   'missing']),\n",
       "                                                 ('cat_pipe',\n",
       "                                                  Pipeline(steps=[('imputer',\n",
       "                                                                   SimpleImputer(fill_value='missing',\n",
       "                                                                                 strategy='constant')),\n",
       "                                                                  ('ohe',\n",
       "                                                                   OneHotEncoder(handle_unknown='ignore',\n",
       "                                                                                 sparse=False))]),\n",
       "                                                  ['SEASON', 'TEAM', 'LEAGUE',\n",
       "                                                   'POS'])])),\n",
       "                ('smote', SMOTE()), ('dt', DecisionTreeClassifier())])"
      ]
     },
     "execution_count": 78,
     "metadata": {},
     "output_type": "execute_result"
    }
   ],
   "source": [
    "pipe_model.fit(X_train, y_train)\n"
   ]
  },
  {
   "cell_type": "code",
   "execution_count": 79,
   "metadata": {},
   "outputs": [
    {
     "name": "stdout",
     "output_type": "stream",
     "text": [
      "              precision    recall  f1-score   support\n",
      "\n",
      "           0       1.00      1.00      1.00      2280\n",
      "           1       1.00      0.99      1.00       184\n",
      "\n",
      "    accuracy                           1.00      2464\n",
      "   macro avg       1.00      1.00      1.00      2464\n",
      "weighted avg       1.00      1.00      1.00      2464\n",
      "\n"
     ]
    },
    {
     "data": {
      "image/png": "[encoded data removed]",
      "text/plain": [
       "<Figure size 432x288 with 2 Axes>"
      ]
     },
     "metadata": {
      "needs_background": "light"
     },
     "output_type": "display_data"
    }
   ],
   "source": [
    "evaluate_model(pipe_model, X_train, y_train)\n"
   ]
  },
  {
   "cell_type": "code",
   "execution_count": 80,
   "metadata": {},
   "outputs": [
    {
     "name": "stdout",
     "output_type": "stream",
     "text": [
      "              precision    recall  f1-score   support\n",
      "\n",
      "           0       0.95      0.93      0.94       571\n",
      "           1       0.32      0.39      0.35        46\n",
      "\n",
      "    accuracy                           0.89       617\n",
      "   macro avg       0.64      0.66      0.65       617\n",
      "weighted avg       0.90      0.89      0.90       617\n",
      "\n"
     ]
    },
    {
     "data": {
      "image/png": "[encoded data removed]",
      "text/plain": [
       "<Figure size 432x288 with 2 Axes>"
      ]
     },
     "metadata": {
      "needs_background": "light"
     },
     "output_type": "display_data"
    }
   ],
   "source": [
    "evaluate_model(pipe_model, X_test, y_test)\n"
   ]
  },
  {
   "cell_type": "code",
   "execution_count": null,
   "metadata": {},
   "outputs": [],
   "source": []
  },
  {
   "cell_type": "code",
   "execution_count": 81,
   "metadata": {},
   "outputs": [],
   "source": [
    "#Grid Search and smote "
   ]
  },
  {
   "cell_type": "code",
   "execution_count": 83,
   "metadata": {},
   "outputs": [
    {
     "name": "stdout",
     "output_type": "stream",
     "text": [
      "Fitting 5 folds for each of 6 candidates, totalling 30 fits\n",
      "[CV] dt__criterion=gini, dt__max_depth=None ..........................\n"
     ]
    },
    {
     "name": "stderr",
     "output_type": "stream",
     "text": [
      "[Parallel(n_jobs=1)]: Using backend SequentialBackend with 1 concurrent workers.\n"
     ]
    },
    {
     "name": "stdout",
     "output_type": "stream",
     "text": [
      "[CV] ........... dt__criterion=gini, dt__max_depth=None, total=   0.3s\n",
      "[CV] dt__criterion=gini, dt__max_depth=None ..........................\n"
     ]
    },
    {
     "name": "stderr",
     "output_type": "stream",
     "text": [
      "[Parallel(n_jobs=1)]: Done   1 out of   1 | elapsed:    0.2s remaining:    0.0s\n"
     ]
    },
    {
     "name": "stdout",
     "output_type": "stream",
     "text": [
      "[CV] ........... dt__criterion=gini, dt__max_depth=None, total=   0.3s\n",
      "[CV] dt__criterion=gini, dt__max_depth=None ..........................\n",
      "[CV] ........... dt__criterion=gini, dt__max_depth=None, total=   0.3s\n",
      "[CV] dt__criterion=gini, dt__max_depth=None ..........................\n",
      "[CV] ........... dt__criterion=gini, dt__max_depth=None, total=   0.3s\n",
      "[CV] dt__criterion=gini, dt__max_depth=None ..........................\n",
      "[CV] ........... dt__criterion=gini, dt__max_depth=None, total=   0.3s\n",
      "[CV] dt__criterion=gini, dt__max_depth=5 .............................\n",
      "[CV] .............. dt__criterion=gini, dt__max_depth=5, total=   0.1s\n",
      "[CV] dt__criterion=gini, dt__max_depth=5 .............................\n",
      "[CV] .............. dt__criterion=gini, dt__max_depth=5, total=   0.1s\n",
      "[CV] dt__criterion=gini, dt__max_depth=5 .............................\n",
      "[CV] .............. dt__criterion=gini, dt__max_depth=5, total=   0.1s\n",
      "[CV] dt__criterion=gini, dt__max_depth=5 .............................\n",
      "[CV] .............. dt__criterion=gini, dt__max_depth=5, total=   0.1s\n",
      "[CV] dt__criterion=gini, dt__max_depth=5 .............................\n",
      "[CV] .............. dt__criterion=gini, dt__max_depth=5, total=   0.1s\n",
      "[CV] dt__criterion=gini, dt__max_depth=9 .............................\n",
      "[CV] .............. dt__criterion=gini, dt__max_depth=9, total=   0.2s\n",
      "[CV] dt__criterion=gini, dt__max_depth=9 .............................\n",
      "[CV] .............. dt__criterion=gini, dt__max_depth=9, total=   0.2s\n",
      "[CV] dt__criterion=gini, dt__max_depth=9 .............................\n",
      "[CV] .............. dt__criterion=gini, dt__max_depth=9, total=   0.2s\n",
      "[CV] dt__criterion=gini, dt__max_depth=9 .............................\n",
      "[CV] .............. dt__criterion=gini, dt__max_depth=9, total=   0.2s\n",
      "[CV] dt__criterion=gini, dt__max_depth=9 .............................\n",
      "[CV] .............. dt__criterion=gini, dt__max_depth=9, total=   0.2s\n",
      "[CV] dt__criterion=entropy, dt__max_depth=None .......................\n",
      "[CV] ........ dt__criterion=entropy, dt__max_depth=None, total=   0.2s\n",
      "[CV] dt__criterion=entropy, dt__max_depth=None .......................\n",
      "[CV] ........ dt__criterion=entropy, dt__max_depth=None, total=   0.2s\n",
      "[CV] dt__criterion=entropy, dt__max_depth=None .......................\n",
      "[CV] ........ dt__criterion=entropy, dt__max_depth=None, total=   0.2s\n",
      "[CV] dt__criterion=entropy, dt__max_depth=None .......................\n",
      "[CV] ........ dt__criterion=entropy, dt__max_depth=None, total=   0.2s\n",
      "[CV] dt__criterion=entropy, dt__max_depth=None .......................\n",
      "[CV] ........ dt__criterion=entropy, dt__max_depth=None, total=   0.2s\n",
      "[CV] dt__criterion=entropy, dt__max_depth=5 ..........................\n",
      "[CV] ........... dt__criterion=entropy, dt__max_depth=5, total=   0.2s\n",
      "[CV] dt__criterion=entropy, dt__max_depth=5 ..........................\n",
      "[CV] ........... dt__criterion=entropy, dt__max_depth=5, total=   0.1s\n",
      "[CV] dt__criterion=entropy, dt__max_depth=5 ..........................\n",
      "[CV] ........... dt__criterion=entropy, dt__max_depth=5, total=   0.2s\n",
      "[CV] dt__criterion=entropy, dt__max_depth=5 ..........................\n",
      "[CV] ........... dt__criterion=entropy, dt__max_depth=5, total=   0.2s\n",
      "[CV] dt__criterion=entropy, dt__max_depth=5 ..........................\n",
      "[CV] ........... dt__criterion=entropy, dt__max_depth=5, total=   0.2s\n",
      "[CV] dt__criterion=entropy, dt__max_depth=9 ..........................\n",
      "[CV] ........... dt__criterion=entropy, dt__max_depth=9, total=   0.2s\n",
      "[CV] dt__criterion=entropy, dt__max_depth=9 ..........................\n",
      "[CV] ........... dt__criterion=entropy, dt__max_depth=9, total=   0.2s\n",
      "[CV] dt__criterion=entropy, dt__max_depth=9 ..........................\n",
      "[CV] ........... dt__criterion=entropy, dt__max_depth=9, total=   0.2s\n",
      "[CV] dt__criterion=entropy, dt__max_depth=9 ..........................\n",
      "[CV] ........... dt__criterion=entropy, dt__max_depth=9, total=   0.2s\n",
      "[CV] dt__criterion=entropy, dt__max_depth=9 ..........................\n",
      "[CV] ........... dt__criterion=entropy, dt__max_depth=9, total=   0.2s\n"
     ]
    },
    {
     "name": "stderr",
     "output_type": "stream",
     "text": [
      "[Parallel(n_jobs=1)]: Done  30 out of  30 | elapsed:    5.8s finished\n"
     ]
    },
    {
     "data": {
      "text/plain": [
       "{'dt__criterion': 'entropy', 'dt__max_depth': 9}"
      ]
     },
     "execution_count": 83,
     "metadata": {},
     "output_type": "execute_result"
    }
   ],
   "source": [
    "param_grid = {'dt__criterion' :['gini', 'entropy'],\n",
    "    'dt__max_depth': [None, 5, 9]\n",
    "}\n",
    "\n",
    "grid = GridSearchCV(pipe_model, param_grid, scoring='f1', verbose=2)\n",
    "grid.fit(X_train, y_train)\n",
    "\n",
    "grid.best_params_"
   ]
  },
  {
   "cell_type": "code",
   "execution_count": 84,
   "metadata": {},
   "outputs": [
    {
     "data": {
      "text/html": [
       "<div>\n",
       "<style scoped>\n",
       "    .dataframe tbody tr th:only-of-type {\n",
       "        vertical-align: middle;\n",
       "    }\n",
       "\n",
       "    .dataframe tbody tr th {\n",
       "        vertical-align: top;\n",
       "    }\n",
       "\n",
       "    .dataframe thead th {\n",
       "        text-align: right;\n",
       "    }\n",
       "</style>\n",
       "<table border=\"1\" class=\"dataframe\">\n",
       "  <thead>\n",
       "    <tr style=\"text-align: right;\">\n",
       "      <th></th>\n",
       "      <th>mean_fit_time</th>\n",
       "      <th>std_fit_time</th>\n",
       "      <th>mean_score_time</th>\n",
       "      <th>std_score_time</th>\n",
       "      <th>param_dt__criterion</th>\n",
       "      <th>param_dt__max_depth</th>\n",
       "      <th>params</th>\n",
       "      <th>split0_test_score</th>\n",
       "      <th>split1_test_score</th>\n",
       "      <th>split2_test_score</th>\n",
       "      <th>split3_test_score</th>\n",
       "      <th>split4_test_score</th>\n",
       "      <th>mean_test_score</th>\n",
       "      <th>std_test_score</th>\n",
       "      <th>rank_test_score</th>\n",
       "    </tr>\n",
       "  </thead>\n",
       "  <tbody>\n",
       "    <tr>\n",
       "      <th>0</th>\n",
       "      <td>0.270972</td>\n",
       "      <td>0.012496</td>\n",
       "      <td>0.009881</td>\n",
       "      <td>0.007919</td>\n",
       "      <td>gini</td>\n",
       "      <td>None</td>\n",
       "      <td>{'dt__criterion': 'gini', 'dt__max_depth': None}</td>\n",
       "      <td>0.405797</td>\n",
       "      <td>0.373626</td>\n",
       "      <td>0.387755</td>\n",
       "      <td>0.409639</td>\n",
       "      <td>0.302326</td>\n",
       "      <td>0.375829</td>\n",
       "      <td>0.038964</td>\n",
       "      <td>5</td>\n",
       "    </tr>\n",
       "    <tr>\n",
       "      <th>1</th>\n",
       "      <td>0.127022</td>\n",
       "      <td>0.006008</td>\n",
       "      <td>0.009834</td>\n",
       "      <td>0.006442</td>\n",
       "      <td>gini</td>\n",
       "      <td>5</td>\n",
       "      <td>{'dt__criterion': 'gini', 'dt__max_depth': 5}</td>\n",
       "      <td>0.426230</td>\n",
       "      <td>0.468468</td>\n",
       "      <td>0.390625</td>\n",
       "      <td>0.471698</td>\n",
       "      <td>0.406780</td>\n",
       "      <td>0.432760</td>\n",
       "      <td>0.032509</td>\n",
       "      <td>2</td>\n",
       "    </tr>\n",
       "    <tr>\n",
       "      <th>2</th>\n",
       "      <td>0.164742</td>\n",
       "      <td>0.011593</td>\n",
       "      <td>0.012494</td>\n",
       "      <td>0.006247</td>\n",
       "      <td>gini</td>\n",
       "      <td>9</td>\n",
       "      <td>{'dt__criterion': 'gini', 'dt__max_depth': 9}</td>\n",
       "      <td>0.446809</td>\n",
       "      <td>0.431373</td>\n",
       "      <td>0.382609</td>\n",
       "      <td>0.475248</td>\n",
       "      <td>0.423077</td>\n",
       "      <td>0.431823</td>\n",
       "      <td>0.030361</td>\n",
       "      <td>3</td>\n",
       "    </tr>\n",
       "    <tr>\n",
       "      <th>3</th>\n",
       "      <td>0.210965</td>\n",
       "      <td>0.015802</td>\n",
       "      <td>0.010269</td>\n",
       "      <td>0.005848</td>\n",
       "      <td>entropy</td>\n",
       "      <td>None</td>\n",
       "      <td>{'dt__criterion': 'entropy', 'dt__max_depth': ...</td>\n",
       "      <td>0.390244</td>\n",
       "      <td>0.326531</td>\n",
       "      <td>0.373333</td>\n",
       "      <td>0.341463</td>\n",
       "      <td>0.384615</td>\n",
       "      <td>0.363237</td>\n",
       "      <td>0.024939</td>\n",
       "      <td>6</td>\n",
       "    </tr>\n",
       "    <tr>\n",
       "      <th>4</th>\n",
       "      <td>0.147972</td>\n",
       "      <td>0.005670</td>\n",
       "      <td>0.006250</td>\n",
       "      <td>0.007655</td>\n",
       "      <td>entropy</td>\n",
       "      <td>5</td>\n",
       "      <td>{'dt__criterion': 'entropy', 'dt__max_depth': 5}</td>\n",
       "      <td>0.406250</td>\n",
       "      <td>0.391304</td>\n",
       "      <td>0.453782</td>\n",
       "      <td>0.446429</td>\n",
       "      <td>0.400000</td>\n",
       "      <td>0.419553</td>\n",
       "      <td>0.025500</td>\n",
       "      <td>4</td>\n",
       "    </tr>\n",
       "    <tr>\n",
       "      <th>5</th>\n",
       "      <td>0.181735</td>\n",
       "      <td>0.011641</td>\n",
       "      <td>0.012515</td>\n",
       "      <td>0.006258</td>\n",
       "      <td>entropy</td>\n",
       "      <td>9</td>\n",
       "      <td>{'dt__criterion': 'entropy', 'dt__max_depth': 9}</td>\n",
       "      <td>0.421053</td>\n",
       "      <td>0.444444</td>\n",
       "      <td>0.457831</td>\n",
       "      <td>0.442105</td>\n",
       "      <td>0.415842</td>\n",
       "      <td>0.436255</td>\n",
       "      <td>0.015586</td>\n",
       "      <td>1</td>\n",
       "    </tr>\n",
       "  </tbody>\n",
       "</table>\n",
       "</div>"
      ],
      "text/plain": [
       "   mean_fit_time  std_fit_time  mean_score_time  std_score_time  \\\n",
       "0       0.270972      0.012496         0.009881        0.007919   \n",
       "1       0.127022      0.006008         0.009834        0.006442   \n",
       "2       0.164742      0.011593         0.012494        0.006247   \n",
       "3       0.210965      0.015802         0.010269        0.005848   \n",
       "4       0.147972      0.005670         0.006250        0.007655   \n",
       "5       0.181735      0.011641         0.012515        0.006258   \n",
       "\n",
       "  param_dt__criterion param_dt__max_depth  \\\n",
       "0                gini                None   \n",
       "1                gini                   5   \n",
       "2                gini                   9   \n",
       "3             entropy                None   \n",
       "4             entropy                   5   \n",
       "5             entropy                   9   \n",
       "\n",
       "                                              params  split0_test_score  \\\n",
       "0   {'dt__criterion': 'gini', 'dt__max_depth': None}           0.405797   \n",
       "1      {'dt__criterion': 'gini', 'dt__max_depth': 5}           0.426230   \n",
       "2      {'dt__criterion': 'gini', 'dt__max_depth': 9}           0.446809   \n",
       "3  {'dt__criterion': 'entropy', 'dt__max_depth': ...           0.390244   \n",
       "4   {'dt__criterion': 'entropy', 'dt__max_depth': 5}           0.406250   \n",
       "5   {'dt__criterion': 'entropy', 'dt__max_depth': 9}           0.421053   \n",
       "\n",
       "   split1_test_score  split2_test_score  split3_test_score  split4_test_score  \\\n",
       "0           0.373626           0.387755           0.409639           0.302326   \n",
       "1           0.468468           0.390625           0.471698           0.406780   \n",
       "2           0.431373           0.382609           0.475248           0.423077   \n",
       "3           0.326531           0.373333           0.341463           0.384615   \n",
       "4           0.391304           0.453782           0.446429           0.400000   \n",
       "5           0.444444           0.457831           0.442105           0.415842   \n",
       "\n",
       "   mean_test_score  std_test_score  rank_test_score  \n",
       "0         0.375829        0.038964                5  \n",
       "1         0.432760        0.032509                2  \n",
       "2         0.431823        0.030361                3  \n",
       "3         0.363237        0.024939                6  \n",
       "4         0.419553        0.025500                4  \n",
       "5         0.436255        0.015586                1  "
      ]
     },
     "execution_count": 84,
     "metadata": {},
     "output_type": "execute_result"
    }
   ],
   "source": [
    "pd.DataFrame(grid.cv_results_)"
   ]
  },
  {
   "cell_type": "code",
   "execution_count": null,
   "metadata": {},
   "outputs": [],
   "source": [
    "\n"
   ]
  },
  {
   "cell_type": "code",
   "execution_count": 85,
   "metadata": {},
   "outputs": [
    {
     "data": {
      "text/plain": [
       "Pipeline(steps=[('col',\n",
       "                 ColumnTransformer(remainder='passthrough',\n",
       "                                   transformers=[('zero',\n",
       "                                                  Pipeline(steps=[('imputer1',\n",
       "                                                                   SimpleImputer(strategy='median')),\n",
       "                                                                  ('ss',\n",
       "                                                                   StandardScaler())]),\n",
       "                                                  ['AGE', 'G', 'GS', 'MP', 'FG',\n",
       "                                                   'FGA', 'FG%', '3P', '3PA',\n",
       "                                                   '3P%', '2P', '2PA', '2P%',\n",
       "                                                   'eFG%', 'FT', 'FTA', 'FT%',\n",
       "                                                   'ORB', 'DRB', 'TRB', 'AST',\n",
       "                                                   'STL', 'BLK', 'TOV', 'PF',\n",
       "                                                   'PTS', 'SEASON_COUNT',\n",
       "                                                   'missing']),\n",
       "                                                 ('cat_pipe',\n",
       "                                                  Pipeline(steps=[('imputer',\n",
       "                                                                   SimpleImputer(fill_value='missing',\n",
       "                                                                                 strategy='constant')),\n",
       "                                                                  ('ohe',\n",
       "                                                                   OneHotEncoder(handle_unknown='ignore',\n",
       "                                                                                 sparse=False))]),\n",
       "                                                  ['SEASON', 'TEAM', 'LEAGUE',\n",
       "                                                   'POS'])])),\n",
       "                ('smote', SMOTE()),\n",
       "                ('dt',\n",
       "                 DecisionTreeClassifier(criterion='entropy', max_depth=9))])"
      ]
     },
     "execution_count": 85,
     "metadata": {},
     "output_type": "execute_result"
    }
   ],
   "source": [
    "best_model = grid.best_estimator_\n",
    "best_model.fit(X_train, y_train)"
   ]
  },
  {
   "cell_type": "code",
   "execution_count": 86,
   "metadata": {},
   "outputs": [
    {
     "name": "stdout",
     "output_type": "stream",
     "text": [
      "              precision    recall  f1-score   support\n",
      "\n",
      "           0       0.96      0.92      0.94       571\n",
      "           1       0.33      0.50      0.40        46\n",
      "\n",
      "    accuracy                           0.89       617\n",
      "   macro avg       0.65      0.71      0.67       617\n",
      "weighted avg       0.91      0.89      0.90       617\n",
      "\n"
     ]
    },
    {
     "data": {
      "image/png": "[encoded data removed]",
      "text/plain": [
       "<Figure size 432x288 with 2 Axes>"
      ]
     },
     "metadata": {
      "needs_background": "light"
     },
     "output_type": "display_data"
    }
   ],
   "source": [
    "\n",
    "evaluate_model(best_model, X_test, y_test)"
   ]
  },
  {
   "cell_type": "code",
   "execution_count": 87,
   "metadata": {},
   "outputs": [
    {
     "data": {
      "image/png": "[encoded data removed]",
      "text/plain": [
       "<Figure size 432x288 with 1 Axes>"
      ]
     },
     "metadata": {
      "needs_background": "light"
     },
     "output_type": "display_data"
    }
   ],
   "source": [
    "\n",
    "fig, axes = plt.subplots()\n",
    "plot_tree(best_model['dt'])\n",
    "plt.show()"
   ]
  },
  {
   "cell_type": "code",
   "execution_count": null,
   "metadata": {},
   "outputs": [],
   "source": []
  },
  {
   "cell_type": "code",
   "execution_count": 88,
   "metadata": {},
   "outputs": [],
   "source": [
    "#top features forr decision tree and smote "
   ]
  },
  {
   "cell_type": "code",
   "execution_count": 89,
   "metadata": {},
   "outputs": [],
   "source": [
    "cat_columns= [col for col in X.columns if X[col].dtype in ['object']]\n",
    "\n",
    "cat_ohe_cols = best_model.named_steps['col'].named_transformers_['cat_pipe']['ohe'].get_feature_names(cat_columns).tolist()"
   ]
  },
  {
   "cell_type": "code",
   "execution_count": 90,
   "metadata": {},
   "outputs": [
    {
     "data": {
      "image/png": "[encoded data removed]",
      "text/plain": [
       "<Figure size 432x288 with 1 Axes>"
      ]
     },
     "metadata": {
      "needs_background": "light"
     },
     "output_type": "display_data"
    }
   ],
   "source": [
    "feat_cols = num_columns+ cat_ohe_cols \n",
    "\n",
    "X_train_tf = pd.DataFrame(best_model.named_steps['col'].fit_transform(X_train), columns=all_columns)\n",
    "\n",
    "\n",
    "important_feats = pd.Series(best_model.named_steps['dt'].feature_importances_, \n",
    "                           index=feat_cols)\n",
    "\n",
    "important_feats.sort_values(ascending=False)[:5]\n",
    "\n",
    "top_feats = important_feats.sort_values(ascending=False).head(10)\n",
    "plt.Figure(figsize=(5, 5))\n",
    "top_feats.sort_values().plot(kind='barh')\n",
    "plt.xlabel('Level of importance')\n",
    "plt.ylabel('Features')\n",
    "plt.title('Best Features');\n"
   ]
  },
  {
   "cell_type": "code",
   "execution_count": null,
   "metadata": {},
   "outputs": [],
   "source": []
  },
  {
   "cell_type": "code",
   "execution_count": null,
   "metadata": {},
   "outputs": [],
   "source": []
  },
  {
   "cell_type": "code",
   "execution_count": 91,
   "metadata": {},
   "outputs": [],
   "source": [
    "#feature selection "
   ]
  },
  {
   "cell_type": "code",
   "execution_count": 92,
   "metadata": {},
   "outputs": [
    {
     "name": "stdout",
     "output_type": "stream",
     "text": [
      "0.9995941558441559\n",
      "0.9173419773095624\n",
      "\n",
      "\n",
      "0.9987824675324676\n",
      "0.9141004862236629\n",
      "\n",
      "\n",
      "0.9987824675324676\n",
      "0.9189627228525121\n",
      "\n",
      "\n",
      "0.9987824675324676\n",
      "0.9173419773095624\n",
      "\n",
      "\n",
      "0.9987824675324676\n",
      "0.9205834683954619\n",
      "\n",
      "\n",
      "0.9987824675324676\n",
      "0.9141004862236629\n",
      "\n",
      "\n"
     ]
    }
   ],
   "source": [
    "\n",
    "threshold_ranges= np.linspace(0,1, num=6)\n",
    "\n",
    "for thresh in threshold_ranges:\n",
    "    selector = VarianceThreshold(thresh)\n",
    "    reduce_featrue_train= selector.fit_transform(cleaned_df_train)\n",
    "    reduce_featrue_test= selector.transform(cleaned_df_test)\n",
    "    base2 = DecisionTreeClassifier()\n",
    "    base2.fit(reduce_featrue_train, y_train)\n",
    "    print(base2.score(reduce_featrue_train, y_train))\n",
    "    print(base2.score(reduce_featrue_test, y_test))\n",
    "    print(\"\\n\")"
   ]
  },
  {
   "cell_type": "code",
   "execution_count": 93,
   "metadata": {},
   "outputs": [
    {
     "data": {
      "text/html": [
       "<div>\n",
       "<style scoped>\n",
       "    .dataframe tbody tr th:only-of-type {\n",
       "        vertical-align: middle;\n",
       "    }\n",
       "\n",
       "    .dataframe tbody tr th {\n",
       "        vertical-align: top;\n",
       "    }\n",
       "\n",
       "    .dataframe thead th {\n",
       "        text-align: right;\n",
       "    }\n",
       "</style>\n",
       "<table border=\"1\" class=\"dataframe\">\n",
       "  <thead>\n",
       "    <tr style=\"text-align: right;\">\n",
       "      <th></th>\n",
       "      <th>AGE</th>\n",
       "      <th>G</th>\n",
       "      <th>GS</th>\n",
       "      <th>MP</th>\n",
       "      <th>FGA</th>\n",
       "      <th>FG%</th>\n",
       "      <th>3P</th>\n",
       "      <th>2PA</th>\n",
       "      <th>FT</th>\n",
       "      <th>FT%</th>\n",
       "      <th>TRB</th>\n",
       "      <th>TOV</th>\n",
       "      <th>PTS</th>\n",
       "    </tr>\n",
       "  </thead>\n",
       "  <tbody>\n",
       "    <tr>\n",
       "      <th>0</th>\n",
       "      <td>-0.689263</td>\n",
       "      <td>-0.822962</td>\n",
       "      <td>-0.641605</td>\n",
       "      <td>-0.460372</td>\n",
       "      <td>-0.539013</td>\n",
       "      <td>-0.084385</td>\n",
       "      <td>0.287515</td>\n",
       "      <td>-0.512282</td>\n",
       "      <td>-0.545519</td>\n",
       "      <td>0.603747</td>\n",
       "      <td>-1.018932</td>\n",
       "      <td>-1.408734</td>\n",
       "      <td>-0.511176</td>\n",
       "    </tr>\n",
       "    <tr>\n",
       "      <th>1</th>\n",
       "      <td>0.386660</td>\n",
       "      <td>0.947431</td>\n",
       "      <td>0.335212</td>\n",
       "      <td>-0.224231</td>\n",
       "      <td>-0.285622</td>\n",
       "      <td>0.252608</td>\n",
       "      <td>-0.595272</td>\n",
       "      <td>-0.013827</td>\n",
       "      <td>-0.825625</td>\n",
       "      <td>-0.634611</td>\n",
       "      <td>0.391881</td>\n",
       "      <td>-0.321759</td>\n",
       "      <td>-0.409373</td>\n",
       "    </tr>\n",
       "    <tr>\n",
       "      <th>2</th>\n",
       "      <td>-0.689263</td>\n",
       "      <td>0.005733</td>\n",
       "      <td>1.014736</td>\n",
       "      <td>0.268583</td>\n",
       "      <td>0.347856</td>\n",
       "      <td>-0.074474</td>\n",
       "      <td>1.170302</td>\n",
       "      <td>0.160632</td>\n",
       "      <td>-0.055333</td>\n",
       "      <td>1.014001</td>\n",
       "      <td>-0.278255</td>\n",
       "      <td>0.221729</td>\n",
       "      <td>0.269312</td>\n",
       "    </tr>\n",
       "    <tr>\n",
       "      <th>3</th>\n",
       "      <td>0.386660</td>\n",
       "      <td>-1.802328</td>\n",
       "      <td>-0.429253</td>\n",
       "      <td>-1.322796</td>\n",
       "      <td>-1.256955</td>\n",
       "      <td>0.718453</td>\n",
       "      <td>-0.595272</td>\n",
       "      <td>-1.110428</td>\n",
       "      <td>-0.685572</td>\n",
       "      <td>-2.898603</td>\n",
       "      <td>-0.877851</td>\n",
       "      <td>-0.321759</td>\n",
       "      <td>-1.071092</td>\n",
       "    </tr>\n",
       "    <tr>\n",
       "      <th>4</th>\n",
       "      <td>-2.303147</td>\n",
       "      <td>0.269408</td>\n",
       "      <td>-0.429253</td>\n",
       "      <td>-0.080494</td>\n",
       "      <td>-0.201158</td>\n",
       "      <td>0.094023</td>\n",
       "      <td>-0.374575</td>\n",
       "      <td>-0.263054</td>\n",
       "      <td>-0.265413</td>\n",
       "      <td>0.155507</td>\n",
       "      <td>-0.242985</td>\n",
       "      <td>-0.185887</td>\n",
       "      <td>-0.222735</td>\n",
       "    </tr>\n",
       "    <tr>\n",
       "      <th>...</th>\n",
       "      <td>...</td>\n",
       "      <td>...</td>\n",
       "      <td>...</td>\n",
       "      <td>...</td>\n",
       "      <td>...</td>\n",
       "      <td>...</td>\n",
       "      <td>...</td>\n",
       "      <td>...</td>\n",
       "      <td>...</td>\n",
       "      <td>...</td>\n",
       "      <td>...</td>\n",
       "      <td>...</td>\n",
       "      <td>...</td>\n",
       "    </tr>\n",
       "    <tr>\n",
       "      <th>2459</th>\n",
       "      <td>2.538505</td>\n",
       "      <td>0.985099</td>\n",
       "      <td>-0.429253</td>\n",
       "      <td>1.664889</td>\n",
       "      <td>2.459448</td>\n",
       "      <td>-0.104208</td>\n",
       "      <td>2.494483</td>\n",
       "      <td>2.378757</td>\n",
       "      <td>2.955806</td>\n",
       "      <td>1.348281</td>\n",
       "      <td>-0.207714</td>\n",
       "      <td>2.123937</td>\n",
       "      <td>2.508973</td>\n",
       "    </tr>\n",
       "    <tr>\n",
       "      <th>2460</th>\n",
       "      <td>0.924621</td>\n",
       "      <td>0.533084</td>\n",
       "      <td>-0.684075</td>\n",
       "      <td>-0.891584</td>\n",
       "      <td>-0.560129</td>\n",
       "      <td>0.222874</td>\n",
       "      <td>1.170302</td>\n",
       "      <td>-0.761509</td>\n",
       "      <td>-0.405466</td>\n",
       "      <td>0.808874</td>\n",
       "      <td>-0.772040</td>\n",
       "      <td>-0.729375</td>\n",
       "      <td>-0.392406</td>\n",
       "    </tr>\n",
       "    <tr>\n",
       "      <th>2461</th>\n",
       "      <td>-0.689263</td>\n",
       "      <td>-0.672290</td>\n",
       "      <td>0.335212</td>\n",
       "      <td>0.689528</td>\n",
       "      <td>0.390088</td>\n",
       "      <td>0.995977</td>\n",
       "      <td>0.287515</td>\n",
       "      <td>0.534474</td>\n",
       "      <td>0.014693</td>\n",
       "      <td>-0.824543</td>\n",
       "      <td>1.026748</td>\n",
       "      <td>-0.185887</td>\n",
       "      <td>0.574720</td>\n",
       "    </tr>\n",
       "    <tr>\n",
       "      <th>2462</th>\n",
       "      <td>0.924621</td>\n",
       "      <td>-1.011301</td>\n",
       "      <td>-0.429253</td>\n",
       "      <td>0.689528</td>\n",
       "      <td>0.812406</td>\n",
       "      <td>-0.252882</td>\n",
       "      <td>-0.595272</td>\n",
       "      <td>1.282156</td>\n",
       "      <td>1.275170</td>\n",
       "      <td>0.466996</td>\n",
       "      <td>-0.207714</td>\n",
       "      <td>2.803297</td>\n",
       "      <td>0.693490</td>\n",
       "    </tr>\n",
       "    <tr>\n",
       "      <th>2463</th>\n",
       "      <td>-0.151302</td>\n",
       "      <td>0.118737</td>\n",
       "      <td>-0.429253</td>\n",
       "      <td>0.473922</td>\n",
       "      <td>-0.475665</td>\n",
       "      <td>0.777922</td>\n",
       "      <td>-0.595272</td>\n",
       "      <td>-0.213209</td>\n",
       "      <td>-0.825625</td>\n",
       "      <td>-0.239552</td>\n",
       "      <td>-0.701499</td>\n",
       "      <td>0.901089</td>\n",
       "      <td>-0.460275</td>\n",
       "    </tr>\n",
       "  </tbody>\n",
       "</table>\n",
       "<p>2464 rows × 13 columns</p>\n",
       "</div>"
      ],
      "text/plain": [
       "           AGE         G        GS        MP       FGA       FG%        3P  \\\n",
       "0    -0.689263 -0.822962 -0.641605 -0.460372 -0.539013 -0.084385  0.287515   \n",
       "1     0.386660  0.947431  0.335212 -0.224231 -0.285622  0.252608 -0.595272   \n",
       "2    -0.689263  0.005733  1.014736  0.268583  0.347856 -0.074474  1.170302   \n",
       "3     0.386660 -1.802328 -0.429253 -1.322796 -1.256955  0.718453 -0.595272   \n",
       "4    -2.303147  0.269408 -0.429253 -0.080494 -0.201158  0.094023 -0.374575   \n",
       "...        ...       ...       ...       ...       ...       ...       ...   \n",
       "2459  2.538505  0.985099 -0.429253  1.664889  2.459448 -0.104208  2.494483   \n",
       "2460  0.924621  0.533084 -0.684075 -0.891584 -0.560129  0.222874  1.170302   \n",
       "2461 -0.689263 -0.672290  0.335212  0.689528  0.390088  0.995977  0.287515   \n",
       "2462  0.924621 -1.011301 -0.429253  0.689528  0.812406 -0.252882 -0.595272   \n",
       "2463 -0.151302  0.118737 -0.429253  0.473922 -0.475665  0.777922 -0.595272   \n",
       "\n",
       "           2PA        FT       FT%       TRB       TOV       PTS  \n",
       "0    -0.512282 -0.545519  0.603747 -1.018932 -1.408734 -0.511176  \n",
       "1    -0.013827 -0.825625 -0.634611  0.391881 -0.321759 -0.409373  \n",
       "2     0.160632 -0.055333  1.014001 -0.278255  0.221729  0.269312  \n",
       "3    -1.110428 -0.685572 -2.898603 -0.877851 -0.321759 -1.071092  \n",
       "4    -0.263054 -0.265413  0.155507 -0.242985 -0.185887 -0.222735  \n",
       "...        ...       ...       ...       ...       ...       ...  \n",
       "2459  2.378757  2.955806  1.348281 -0.207714  2.123937  2.508973  \n",
       "2460 -0.761509 -0.405466  0.808874 -0.772040 -0.729375 -0.392406  \n",
       "2461  0.534474  0.014693 -0.824543  1.026748 -0.185887  0.574720  \n",
       "2462  1.282156  1.275170  0.466996 -0.207714  2.803297  0.693490  \n",
       "2463 -0.213209 -0.825625 -0.239552 -0.701499  0.901089 -0.460275  \n",
       "\n",
       "[2464 rows x 13 columns]"
      ]
     },
     "execution_count": 93,
     "metadata": {},
     "output_type": "execute_result"
    }
   ],
   "source": [
    "cleaned_df_train[cleaned_df_train.columns[selector.get_support(indices=True)]]"
   ]
  },
  {
   "cell_type": "code",
   "execution_count": null,
   "metadata": {},
   "outputs": [],
   "source": []
  },
  {
   "cell_type": "code",
   "execution_count": 94,
   "metadata": {},
   "outputs": [],
   "source": [
    "#tree pruning and variance threshold data "
   ]
  },
  {
   "cell_type": "code",
   "execution_count": 95,
   "metadata": {},
   "outputs": [],
   "source": [
    "\n",
    "clf = DecisionTreeClassifier()"
   ]
  },
  {
   "cell_type": "code",
   "execution_count": 96,
   "metadata": {},
   "outputs": [],
   "source": [
    "path = clf.cost_complexity_pruning_path(reduce_featrue_train, y_train)"
   ]
  },
  {
   "cell_type": "code",
   "execution_count": 97,
   "metadata": {},
   "outputs": [],
   "source": [
    "ccp_alphas = path.ccp_alphas"
   ]
  },
  {
   "cell_type": "code",
   "execution_count": 98,
   "metadata": {},
   "outputs": [],
   "source": [
    "ccp_alphas = ccp_alphas[:-1]\n"
   ]
  },
  {
   "cell_type": "code",
   "execution_count": 99,
   "metadata": {},
   "outputs": [],
   "source": [
    "clfs= []\n"
   ]
  },
  {
   "cell_type": "code",
   "execution_count": 100,
   "metadata": {},
   "outputs": [
    {
     "name": "stdout",
     "output_type": "stream",
     "text": [
      "Number of nodes in the last tree is: 3 with ccp_alpha: 0.0039780341823630605\n"
     ]
    }
   ],
   "source": [
    "for ccp_alpha in ccp_alphas: \n",
    "    clf =DecisionTreeClassifier(random_state =0, ccp_alpha= ccp_alpha)\n",
    "    clf.fit(reduce_featrue_train, y_train)\n",
    "    clfs.append(clf)\n",
    "print(\"Number of nodes in the last tree is: {} with ccp_alpha: {}\".format(clfs[-1].tree_.node_count, ccp_alphas[-1]))"
   ]
  },
  {
   "cell_type": "code",
   "execution_count": 101,
   "metadata": {},
   "outputs": [
    {
     "data": {
      "image/png": "[encoded data removed]",
      "text/plain": [
       "<Figure size 432x288 with 1 Axes>"
      ]
     },
     "metadata": {
      "needs_background": "light"
     },
     "output_type": "display_data"
    }
   ],
   "source": [
    "train_scores = [clf.score(reduce_featrue_train, y_train) for clf in clfs]\n",
    "test_scores = [clf.score(reduce_featrue_test, y_test) for clf in clfs]\n",
    "\n",
    "fig, ax = plt.subplots()\n",
    "ax.set_xlabel(\"alpha\")\n",
    "ax.set_ylabel(\"accuracy\")\n",
    "ax.set_title(\"Accuracy vs alpha for training and testing sets\")\n",
    "ax.plot(ccp_alphas, train_scores, marker='o', label=\"train\",\n",
    "        drawstyle=\"steps-post\")\n",
    "ax.plot(ccp_alphas, test_scores, marker='o', label=\"test\",\n",
    "        drawstyle=\"steps-post\")\n",
    "ax.legend()\n",
    "plt.show()"
   ]
  },
  {
   "cell_type": "code",
   "execution_count": 102,
   "metadata": {},
   "outputs": [],
   "source": [
    "clf_pruned = DecisionTreeClassifier(random_state = 42, ccp_alpha= 0.0020)\n",
    "clf_pruned = clf_pruned.fit(reduce_featrue_train, y_train)"
   ]
  },
  {
   "cell_type": "code",
   "execution_count": 103,
   "metadata": {},
   "outputs": [
    {
     "name": "stdout",
     "output_type": "stream",
     "text": [
      "              precision    recall  f1-score   support\n",
      "\n",
      "           0       0.94      1.00      0.97       571\n",
      "           1       1.00      0.15      0.26        46\n",
      "\n",
      "    accuracy                           0.94       617\n",
      "   macro avg       0.97      0.58      0.62       617\n",
      "weighted avg       0.94      0.94      0.91       617\n",
      "\n"
     ]
    },
    {
     "data": {
      "image/png": "[encoded data removed]",
      "text/plain": [
       "<Figure size 432x288 with 2 Axes>"
      ]
     },
     "metadata": {
      "needs_background": "light"
     },
     "output_type": "display_data"
    }
   ],
   "source": [
    "evaluate_model(clf_pruned,reduce_featrue_test, y_test)\n"
   ]
  },
  {
   "cell_type": "code",
   "execution_count": 104,
   "metadata": {},
   "outputs": [
    {
     "name": "stdout",
     "output_type": "stream",
     "text": [
      "              precision    recall  f1-score   support\n",
      "\n",
      "           0       0.94      1.00      0.97      2280\n",
      "           1       0.94      0.16      0.28       184\n",
      "\n",
      "    accuracy                           0.94      2464\n",
      "   macro avg       0.94      0.58      0.62      2464\n",
      "weighted avg       0.94      0.94      0.92      2464\n",
      "\n"
     ]
    },
    {
     "data": {
      "image/png": "[encoded data removed]",
      "text/plain": [
       "<Figure size 432x288 with 2 Axes>"
      ]
     },
     "metadata": {
      "needs_background": "light"
     },
     "output_type": "display_data"
    }
   ],
   "source": [
    "evaluate_model(clf_pruned,reduce_featrue_train, y_train)\n"
   ]
  },
  {
   "cell_type": "code",
   "execution_count": null,
   "metadata": {},
   "outputs": [],
   "source": []
  },
  {
   "cell_type": "code",
   "execution_count": null,
   "metadata": {},
   "outputs": [],
   "source": []
  },
  {
   "cell_type": "code",
   "execution_count": 105,
   "metadata": {},
   "outputs": [
    {
     "name": "stdout",
     "output_type": "stream",
     "text": [
      "Wall time: 0 ns\n"
     ]
    },
    {
     "data": {
      "text/plain": [
       "0.9995941558441559"
      ]
     },
     "execution_count": 105,
     "metadata": {},
     "output_type": "execute_result"
    }
   ],
   "source": [
    "\n",
    "#pipeline - decision tree\n",
    "tree_pipe = imbpipeline(steps=[\n",
    "    ('coltran', coltran),\n",
    "    ('smote', SMOTE()),\n",
    "    ('tree', DecisionTreeClassifier())\n",
    "])\n",
    "\n",
    "#decision tree baseline model\n",
    "%time\n",
    "tree_pipe.fit(X_train, y_train)\n",
    "tree_pipe.score(X_train, y_train)\n"
   ]
  },
  {
   "cell_type": "code",
   "execution_count": 106,
   "metadata": {},
   "outputs": [
    {
     "name": "stdout",
     "output_type": "stream",
     "text": [
      "              precision    recall  f1-score   support\n",
      "\n",
      "           0       0.96      0.91      0.93       571\n",
      "           1       0.32      0.50      0.39        46\n",
      "\n",
      "    accuracy                           0.88       617\n",
      "   macro avg       0.64      0.71      0.66       617\n",
      "weighted avg       0.91      0.88      0.89       617\n",
      "\n"
     ]
    },
    {
     "data": {
      "image/png": "[encoded data removed]",
      "text/plain": [
       "<Figure size 432x288 with 2 Axes>"
      ]
     },
     "metadata": {
      "needs_background": "light"
     },
     "output_type": "display_data"
    }
   ],
   "source": [
    "evaluate_model(tree_pipe, X_test, y_test)\n"
   ]
  },
  {
   "cell_type": "code",
   "execution_count": 107,
   "metadata": {},
   "outputs": [
    {
     "name": "stdout",
     "output_type": "stream",
     "text": [
      "Wall time: 0 ns\n"
     ]
    },
    {
     "data": {
      "text/plain": [
       "0.9995941558441559"
      ]
     },
     "execution_count": 107,
     "metadata": {},
     "output_type": "execute_result"
    }
   ],
   "source": [
    "from sklearn.ensemble import RandomForestClassifier, GradientBoostingClassifier\n",
    "#pipeline - random forest\n",
    "forest_pipe = imbpipeline(steps=[\n",
    "    ('coltran', coltran),\n",
    "    ('smote', SMOTE()),\n",
    "    ('forest', RandomForestClassifier())\n",
    "])\n",
    "\n",
    "#random forest baseline model\n",
    "%time\n",
    "forest_pipe.fit(X_train, y_train)\n",
    "forest_pipe.score(X_train, y_train)"
   ]
  },
  {
   "cell_type": "code",
   "execution_count": 108,
   "metadata": {},
   "outputs": [
    {
     "name": "stdout",
     "output_type": "stream",
     "text": [
      "              precision    recall  f1-score   support\n",
      "\n",
      "           0       0.96      0.96      0.96       571\n",
      "           1       0.55      0.52      0.53        46\n",
      "\n",
      "    accuracy                           0.93       617\n",
      "   macro avg       0.75      0.74      0.75       617\n",
      "weighted avg       0.93      0.93      0.93       617\n",
      "\n"
     ]
    },
    {
     "data": {
      "image/png": "[encoded data removed]",
      "text/plain": [
       "<Figure size 432x288 with 2 Axes>"
      ]
     },
     "metadata": {
      "needs_background": "light"
     },
     "output_type": "display_data"
    }
   ],
   "source": [
    "\n",
    "evaluate_model(forest_pipe, X_test, y_test)\n"
   ]
  },
  {
   "cell_type": "code",
   "execution_count": 109,
   "metadata": {},
   "outputs": [
    {
     "name": "stdout",
     "output_type": "stream",
     "text": [
      "Wall time: 0 ns\n"
     ]
    },
    {
     "data": {
      "text/plain": [
       "0.9995941558441559"
      ]
     },
     "execution_count": 109,
     "metadata": {},
     "output_type": "execute_result"
    }
   ],
   "source": [
    "#pipeline - xg boosting\n",
    "from xgboost import XGBClassifier\n",
    "xg_pipe = imbpipeline(steps=[\n",
    "    ('coltran', coltran),\n",
    "    ('smote', SMOTE()),\n",
    "    ('xg', XGBClassifier())\n",
    "])\n",
    "\n",
    "#xg boosting baseline model\n",
    "%time\n",
    "xg_pipe.fit(X_train, y_train)\n",
    "xg_pipe.score(X_train, y_train)"
   ]
  },
  {
   "cell_type": "code",
   "execution_count": 110,
   "metadata": {},
   "outputs": [
    {
     "name": "stdout",
     "output_type": "stream",
     "text": [
      "              precision    recall  f1-score   support\n",
      "\n",
      "           0       0.96      0.97      0.97       571\n",
      "           1       0.62      0.54      0.58        46\n",
      "\n",
      "    accuracy                           0.94       617\n",
      "   macro avg       0.79      0.76      0.78       617\n",
      "weighted avg       0.94      0.94      0.94       617\n",
      "\n"
     ]
    },
    {
     "data": {
      "image/png": "[encoded data removed]",
      "text/plain": [
       "<Figure size 432x288 with 2 Axes>"
      ]
     },
     "metadata": {
      "needs_background": "light"
     },
     "output_type": "display_data"
    }
   ],
   "source": [
    "evaluate_model(xg_pipe, X_test, y_test)\n"
   ]
  },
  {
   "cell_type": "code",
   "execution_count": 111,
   "metadata": {},
   "outputs": [
    {
     "name": "stdout",
     "output_type": "stream",
     "text": [
      "Wall time: 0 ns\n"
     ]
    },
    {
     "data": {
      "text/plain": [
       "0.942775974025974"
      ]
     },
     "execution_count": 111,
     "metadata": {},
     "output_type": "execute_result"
    }
   ],
   "source": [
    "\n",
    "#pipeline - gradient boosting\n",
    "gb_pipe = imbpipeline(steps=[\n",
    "    ('coltran', coltran),\n",
    "    ('smote', SMOTE()),\n",
    "    ('gb', GradientBoostingClassifier())\n",
    "])\n",
    "\n",
    "#gradient boosting baseline model\n",
    "%time\n",
    "gb_pipe.fit(X_train, y_train)\n",
    "gb_pipe.score(X_train, y_train)"
   ]
  },
  {
   "cell_type": "code",
   "execution_count": 112,
   "metadata": {},
   "outputs": [
    {
     "name": "stdout",
     "output_type": "stream",
     "text": [
      "              precision    recall  f1-score   support\n",
      "\n",
      "           0       0.97      0.95      0.96       571\n",
      "           1       0.52      0.70      0.60        46\n",
      "\n",
      "    accuracy                           0.93       617\n",
      "   macro avg       0.75      0.82      0.78       617\n",
      "weighted avg       0.94      0.93      0.93       617\n",
      "\n"
     ]
    },
    {
     "data": {
      "image/png": "[encoded data removed]",
      "text/plain": [
       "<Figure size 432x288 with 2 Axes>"
      ]
     },
     "metadata": {
      "needs_background": "light"
     },
     "output_type": "display_data"
    }
   ],
   "source": [
    "evaluate_model(gb_pipe, X_test, y_test)\n"
   ]
  },
  {
   "cell_type": "code",
   "execution_count": 113,
   "metadata": {},
   "outputs": [
    {
     "name": "stdout",
     "output_type": "stream",
     "text": [
      "Wall time: 0 ns\n"
     ]
    },
    {
     "data": {
      "text/plain": [
       "{'forest__max_depth': 30,\n",
       " 'forest__min_samples_leaf': 1,\n",
       " 'forest__min_samples_split': 5}"
      ]
     },
     "execution_count": 113,
     "metadata": {},
     "output_type": "execute_result"
    }
   ],
   "source": [
    "\n",
    "#random forest grid 1\n",
    "forest_param_grid1 = {\n",
    "    'forest__max_depth': [20, 30],\n",
    "    'forest__min_samples_split': [2, 3, 5],\n",
    "    'forest__min_samples_leaf': [1, 2]\n",
    "}\n",
    "\n",
    "gs_forest1 = GridSearchCV(forest_pipe, forest_param_grid1, cv=2)\n",
    "\n",
    "%time\n",
    "gs_forest1.fit(X_train, y_train)\n",
    "\n",
    "gs_forest1.best_params_"
   ]
  },
  {
   "cell_type": "code",
   "execution_count": 114,
   "metadata": {},
   "outputs": [
    {
     "name": "stdout",
     "output_type": "stream",
     "text": [
      "              precision    recall  f1-score   support\n",
      "\n",
      "           0       1.00      1.00      1.00      2280\n",
      "           1       1.00      0.99      1.00       184\n",
      "\n",
      "    accuracy                           1.00      2464\n",
      "   macro avg       1.00      1.00      1.00      2464\n",
      "weighted avg       1.00      1.00      1.00      2464\n",
      "\n"
     ]
    },
    {
     "data": {
      "image/png": "[encoded data removed]",
      "text/plain": [
       "<Figure size 432x288 with 2 Axes>"
      ]
     },
     "metadata": {
      "needs_background": "light"
     },
     "output_type": "display_data"
    }
   ],
   "source": [
    "#classification report\n",
    "evaluate_model(gs_forest1.best_estimator_, X_train, y_train)"
   ]
  },
  {
   "cell_type": "code",
   "execution_count": 115,
   "metadata": {},
   "outputs": [
    {
     "name": "stdout",
     "output_type": "stream",
     "text": [
      "              precision    recall  f1-score   support\n",
      "\n",
      "           0       0.96      0.96      0.96       571\n",
      "           1       0.50      0.50      0.50        46\n",
      "\n",
      "    accuracy                           0.93       617\n",
      "   macro avg       0.73      0.73      0.73       617\n",
      "weighted avg       0.93      0.93      0.93       617\n",
      "\n"
     ]
    },
    {
     "data": {
      "image/png": "[encoded data removed]",
      "text/plain": [
       "<Figure size 432x288 with 2 Axes>"
      ]
     },
     "metadata": {
      "needs_background": "light"
     },
     "output_type": "display_data"
    }
   ],
   "source": [
    "evaluate_model(gs_forest1.best_estimator_, X_test, y_test)"
   ]
  },
  {
   "cell_type": "code",
   "execution_count": null,
   "metadata": {},
   "outputs": [],
   "source": []
  },
  {
   "cell_type": "code",
   "execution_count": null,
   "metadata": {},
   "outputs": [],
   "source": []
  }
 ],
 "metadata": {
  "kernelspec": {
   "display_name": "Python 3",
   "language": "python",
   "name": "python3"
  },
  "language_info": {
   "codemirror_mode": {
    "name": "ipython",
    "version": 3
   },
   "file_extension": ".py",
   "mimetype": "text/x-python",
   "name": "python",
   "nbconvert_exporter": "python",
   "pygments_lexer": "ipython3",
   "version": "3.8.5"
  }
 },
 "nbformat": 4,
 "nbformat_minor": 4
}
